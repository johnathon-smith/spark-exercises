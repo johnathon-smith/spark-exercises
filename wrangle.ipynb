{
 "cells": [
  {
   "cell_type": "markdown",
   "id": "90dcd334",
   "metadata": {},
   "source": [
    "# Wrangle"
   ]
  },
  {
   "cell_type": "markdown",
   "id": "a2829650",
   "metadata": {},
   "source": [
    "This exercises uses the case.csv, dept.csv, and source.csv files from the san antonio 311 call dataset."
   ]
  },
  {
   "cell_type": "markdown",
   "id": "9b61efe1",
   "metadata": {},
   "source": [
    "### Part 1"
   ]
  },
  {
   "cell_type": "markdown",
   "id": "020337fb",
   "metadata": {},
   "source": [
    "__Read the case, department, and source data into their own spark dataframes.__"
   ]
  },
  {
   "cell_type": "code",
   "execution_count": 1,
   "id": "85f86347",
   "metadata": {},
   "outputs": [],
   "source": [
    "import numpy as np\n",
    "import pandas as pd\n",
    "import pyspark"
   ]
  },
  {
   "cell_type": "code",
   "execution_count": 2,
   "id": "9409e9ba",
   "metadata": {},
   "outputs": [],
   "source": [
    "#Start the spark cluster\n",
    "spark = pyspark.sql.SparkSession.builder.getOrCreate()"
   ]
  },
  {
   "cell_type": "code",
   "execution_count": 3,
   "id": "e6e46c91",
   "metadata": {},
   "outputs": [],
   "source": [
    "#Create the case spark df\n",
    "case_df = spark.read.csv(\"case.csv\", inferSchema = True, header = True)"
   ]
  },
  {
   "cell_type": "code",
   "execution_count": 4,
   "id": "2fdc1250",
   "metadata": {},
   "outputs": [
    {
     "name": "stdout",
     "output_type": "stream",
     "text": [
      "-RECORD 0----------------------------------------------------\n",
      " case_id              | 1014127332                           \n",
      " case_opened_date     | 1/1/18 0:42                          \n",
      " case_closed_date     | 1/1/18 12:29                         \n",
      " SLA_due_date         | 9/26/20 0:42                         \n",
      " case_late            | NO                                   \n",
      " num_days_late        | -998.5087616000001                   \n",
      " case_closed          | YES                                  \n",
      " dept_division        | Field Operations                     \n",
      " service_request_type | Stray Animal                         \n",
      " SLA_days             | 999.0                                \n",
      " case_status          | Closed                               \n",
      " source_id            | svcCRMLS                             \n",
      " request_address      | 2315  EL PASO ST, San Antonio, 78207 \n",
      " council_district     | 5                                    \n",
      "-RECORD 1----------------------------------------------------\n",
      " case_id              | 1014127333                           \n",
      " case_opened_date     | 1/1/18 0:46                          \n",
      " case_closed_date     | 1/3/18 8:11                          \n",
      " SLA_due_date         | 1/5/18 8:30                          \n",
      " case_late            | NO                                   \n",
      " num_days_late        | -2.0126041669999997                  \n",
      " case_closed          | YES                                  \n",
      " dept_division        | Storm Water                          \n",
      " service_request_type | Removal Of Obstruction               \n",
      " SLA_days             | 4.322222222                          \n",
      " case_status          | Closed                               \n",
      " source_id            | svcCRMSS                             \n",
      " request_address      | 2215  GOLIAD RD, San Antonio, 78223  \n",
      " council_district     | 3                                    \n",
      "only showing top 2 rows\n",
      "\n"
     ]
    }
   ],
   "source": [
    "case_df.show(2, truncate = False, vertical = True)"
   ]
  },
  {
   "cell_type": "code",
   "execution_count": 5,
   "id": "78bac216",
   "metadata": {},
   "outputs": [],
   "source": [
    "#Create the dept spark df\n",
    "dept_df = spark.read.csv('dept.csv', header = True, inferSchema = True)"
   ]
  },
  {
   "cell_type": "code",
   "execution_count": 6,
   "id": "cf20bbb9",
   "metadata": {},
   "outputs": [
    {
     "name": "stdout",
     "output_type": "stream",
     "text": [
      "+--------------------+--------------------+----------------------+-------------------+\n",
      "|       dept_division|           dept_name|standardized_dept_name|dept_subject_to_SLA|\n",
      "+--------------------+--------------------+----------------------+-------------------+\n",
      "|     311 Call Center|    Customer Service|      Customer Service|                YES|\n",
      "|               Brush|Solid Waste Manag...|           Solid Waste|                YES|\n",
      "|     Clean and Green|Parks and Recreation|    Parks & Recreation|                YES|\n",
      "|Clean and Green N...|Parks and Recreation|    Parks & Recreation|                YES|\n",
      "|    Code Enforcement|Code Enforcement ...|  DSD/Code Enforcement|                YES|\n",
      "+--------------------+--------------------+----------------------+-------------------+\n",
      "only showing top 5 rows\n",
      "\n"
     ]
    }
   ],
   "source": [
    "dept_df.show(5)"
   ]
  },
  {
   "cell_type": "code",
   "execution_count": 7,
   "id": "27ce0849",
   "metadata": {},
   "outputs": [],
   "source": [
    "#Create the source spark df\n",
    "source_df = spark.read.csv('source.csv', header = True, inferSchema = True)"
   ]
  },
  {
   "cell_type": "code",
   "execution_count": 8,
   "id": "1ae17c85",
   "metadata": {},
   "outputs": [
    {
     "name": "stdout",
     "output_type": "stream",
     "text": [
      "+---------+----------------+\n",
      "|source_id| source_username|\n",
      "+---------+----------------+\n",
      "|   100137|Merlene Blodgett|\n",
      "|   103582|     Carmen Cura|\n",
      "|   106463| Richard Sanchez|\n",
      "|   119403|  Betty De Hoyos|\n",
      "|   119555|  Socorro Quiara|\n",
      "+---------+----------------+\n",
      "only showing top 5 rows\n",
      "\n"
     ]
    }
   ],
   "source": [
    "source_df.show(5)"
   ]
  },
  {
   "cell_type": "markdown",
   "id": "d90d7d5f",
   "metadata": {},
   "source": [
    "__Write the code necessary to store the source data in both csv and json format, store these as sources_csv and sources_json__"
   ]
  },
  {
   "cell_type": "code",
   "execution_count": 9,
   "id": "298822b2",
   "metadata": {},
   "outputs": [],
   "source": [
    "#Save as csv\n",
    "source_df.write.csv('sources_csv', mode = 'overwrite')"
   ]
  },
  {
   "cell_type": "code",
   "execution_count": 10,
   "id": "62243106",
   "metadata": {},
   "outputs": [],
   "source": [
    "#Save as json\n",
    "source_df.write.json('sources_json', mode = 'overwrite')"
   ]
  },
  {
   "cell_type": "markdown",
   "id": "e171a33d",
   "metadata": {},
   "source": [
    "__Inspect the data in your dataframes. Are the data types appropriate? Write the code necessary to cast the values to the appropriate types.__"
   ]
  },
  {
   "cell_type": "code",
   "execution_count": 11,
   "id": "2395f32e",
   "metadata": {},
   "outputs": [
    {
     "name": "stdout",
     "output_type": "stream",
     "text": [
      "root\n",
      " |-- case_id: integer (nullable = true)\n",
      " |-- case_opened_date: string (nullable = true)\n",
      " |-- case_closed_date: string (nullable = true)\n",
      " |-- SLA_due_date: string (nullable = true)\n",
      " |-- case_late: string (nullable = true)\n",
      " |-- num_days_late: double (nullable = true)\n",
      " |-- case_closed: string (nullable = true)\n",
      " |-- dept_division: string (nullable = true)\n",
      " |-- service_request_type: string (nullable = true)\n",
      " |-- SLA_days: double (nullable = true)\n",
      " |-- case_status: string (nullable = true)\n",
      " |-- source_id: string (nullable = true)\n",
      " |-- request_address: string (nullable = true)\n",
      " |-- council_district: integer (nullable = true)\n",
      "\n"
     ]
    }
   ],
   "source": [
    "#Check case_df\n",
    "case_df.printSchema()"
   ]
  },
  {
   "cell_type": "markdown",
   "id": "ae951270",
   "metadata": {},
   "source": [
    "Things to change:\n",
    "* I think case_id should be a string, not an integer\n",
    "* case_opened_date should be a datetime object\n",
    "* case_closed_date should be a datetime object\n",
    "* SLA_due_date should be a datetime object\n",
    "* case_late should be a boolean\n",
    "* num_days_late should be an int\n",
    "* case_closed should be a boolean\n",
    "* SLA_days should be an int\n",
    "* Although there's nothing inherently wrong with request_address, I would like to go ahead and create new columns for city and zip code.\n",
    "* council_district should be a string."
   ]
  },
  {
   "cell_type": "code",
   "execution_count": 12,
   "id": "1402bfaf",
   "metadata": {},
   "outputs": [],
   "source": [
    "#Rename SLA_due_date to case_due_date to match the other column names\n",
    "case_df = case_df.withColumnRenamed('SLA_due_date', 'case_due_date')"
   ]
  },
  {
   "cell_type": "code",
   "execution_count": 13,
   "id": "c4f5539c",
   "metadata": {},
   "outputs": [],
   "source": [
    "from pyspark.sql.functions import col\n",
    "\n",
    "#Cast case_id, and council_district as strings\n",
    "case_df = case_df.withColumn('case_id', col('case_id').cast('string')).withColumn('council_district', col('council_district').cast('string'))"
   ]
  },
  {
   "cell_type": "code",
   "execution_count": 14,
   "id": "b82c3a97",
   "metadata": {},
   "outputs": [],
   "source": [
    "from pyspark.sql.functions import to_timestamp\n",
    "\n",
    "#Convert the dates to datetime objects\n",
    "#First, determine the format \n",
    "fmt = \"M/d/yy H:mm\"\n",
    "case_df = (\n",
    "    case_df.withColumn('case_opened_date', to_timestamp('case_opened_date', fmt))\n",
    "    .withColumn('case_closed_date', to_timestamp('case_closed_date', fmt))\n",
    "    .withColumn('case_due_date', to_timestamp('case_due_date', fmt))\n",
    ")"
   ]
  },
  {
   "cell_type": "code",
   "execution_count": 15,
   "id": "b0407226",
   "metadata": {},
   "outputs": [],
   "source": [
    "from pyspark.sql.functions import expr\n",
    "\n",
    "#Convert case_closed and case_late to booleans\n",
    "case_df = (\n",
    "    case_df.withColumn('case_closed', expr(\"case_closed == 'Yes'\"))\n",
    "    .withColumn('case_late', expr(\"case_late == 'Yes'\"))\n",
    ")"
   ]
  },
  {
   "cell_type": "code",
   "execution_count": 16,
   "id": "b1e1b74d",
   "metadata": {},
   "outputs": [],
   "source": [
    "#Convert num_days_late and SLA_days to ints\n",
    "case_df = (\n",
    "    case_df.withColumn('num_days_late', col('num_days_late').cast('integer'))\n",
    "    .withColumn('SLA_days', col('SLA_days').cast('integer'))\n",
    ")"
   ]
  },
  {
   "cell_type": "code",
   "execution_count": 17,
   "id": "88e8e80d",
   "metadata": {},
   "outputs": [],
   "source": [
    "from pyspark.sql.functions import regexp_extract, trim, lower\n",
    "\n",
    "#Strip all leading and trailing whitespace from the request_address and convert to lowercase\n",
    "case_df = case_df.withColumn('request_address', trim(lower(case_df.request_address)))\n",
    "\n",
    "#Now create new columns for city and zip code\n",
    "case_df = (\n",
    "    case_df.withColumn('zip_code', regexp_extract('request_address', r'\\w{5}$', 0))\n",
    "    .withColumn('city', regexp_extract('request_address', r', (.*),', 1))\n",
    ")"
   ]
  },
  {
   "cell_type": "code",
   "execution_count": 18,
   "id": "2cd1a253",
   "metadata": {},
   "outputs": [],
   "source": [
    "from pyspark.sql.functions import format_string\n",
    "\n",
    "#Format the council district string so that there are leading 0s\n",
    "case_df = case_df.withColumn('council_district', format_string('%03d', col('council_district').cast('integer')))"
   ]
  },
  {
   "cell_type": "code",
   "execution_count": 19,
   "id": "3ec4a17c",
   "metadata": {},
   "outputs": [
    {
     "name": "stdout",
     "output_type": "stream",
     "text": [
      "root\n",
      " |-- dept_division: string (nullable = true)\n",
      " |-- dept_name: string (nullable = true)\n",
      " |-- standardized_dept_name: string (nullable = true)\n",
      " |-- dept_subject_to_SLA: string (nullable = true)\n",
      "\n"
     ]
    }
   ],
   "source": [
    "#Now check the schema for the dept_df\n",
    "dept_df.printSchema()"
   ]
  },
  {
   "cell_type": "markdown",
   "id": "b9136fb8",
   "metadata": {},
   "source": [
    "Things to Change:\n",
    "* dept_subject_to_SLA should be a boolean"
   ]
  },
  {
   "cell_type": "code",
   "execution_count": 20,
   "id": "785760cd",
   "metadata": {},
   "outputs": [],
   "source": [
    "#Convert dept_subject_to_SLA to a boolean\n",
    "dept_df = dept_df.withColumn('dept_subject_to_SLA', expr(\"dept_subject_to_SLA == 'Yes'\"))"
   ]
  },
  {
   "cell_type": "code",
   "execution_count": 21,
   "id": "ff4b96ff",
   "metadata": {},
   "outputs": [
    {
     "name": "stdout",
     "output_type": "stream",
     "text": [
      "root\n",
      " |-- source_id: string (nullable = true)\n",
      " |-- source_username: string (nullable = true)\n",
      "\n"
     ]
    }
   ],
   "source": [
    "#Now check the schema for source_df\n",
    "source_df.printSchema()"
   ]
  },
  {
   "cell_type": "markdown",
   "id": "30bae3b7",
   "metadata": {},
   "source": [
    "Things to Change:\n",
    "* Nothing. These datatypes seem fine."
   ]
  },
  {
   "cell_type": "markdown",
   "id": "12f36313",
   "metadata": {},
   "source": [
    "### Part 2"
   ]
  },
  {
   "cell_type": "markdown",
   "id": "c7a389fb",
   "metadata": {},
   "source": [
    "__1) How old is the latest (in terms of days past SLA) currently open issue? How long has the oldest (in terms of days since opened) currently opened issue been open?__"
   ]
  },
  {
   "cell_type": "code",
   "execution_count": 30,
   "id": "2bf52fce",
   "metadata": {},
   "outputs": [
    {
     "name": "stdout",
     "output_type": "stream",
     "text": [
      "+-------------+\n",
      "|days_past_due|\n",
      "+-------------+\n",
      "|         1773|\n",
      "|         1773|\n",
      "|         1773|\n",
      "|         1773|\n",
      "|         1773|\n",
      "+-------------+\n",
      "only showing top 5 rows\n",
      "\n"
     ]
    }
   ],
   "source": [
    "from pyspark.sql.functions import datediff, current_timestamp\n",
    "\n",
    "(\n",
    "    case_df.select(datediff(current_timestamp(), 'case_due_date')\n",
    "    .alias('days_past_due'))\n",
    "    .where(case_df.case_closed == False)\n",
    "    .sort(col('days_past_due').desc())\n",
    "    .show(5)\n",
    ")"
   ]
  },
  {
   "cell_type": "markdown",
   "id": "8387a40f",
   "metadata": {},
   "source": [
    "__2) How many Stray Animal cases are there?__"
   ]
  },
  {
   "cell_type": "code",
   "execution_count": 31,
   "id": "9e7b0638",
   "metadata": {},
   "outputs": [
    {
     "data": {
      "text/plain": [
       "26760"
      ]
     },
     "execution_count": 31,
     "metadata": {},
     "output_type": "execute_result"
    }
   ],
   "source": [
    "case_df.filter(case_df.service_request_type == 'Stray Animal').count()"
   ]
  },
  {
   "cell_type": "markdown",
   "id": "c1ff8dfe",
   "metadata": {},
   "source": [
    "__3) How many service requests that are assigned to the Field Operations department (dept_division) are not classified as \"Officer Standby\" request type (service_request_type)?__"
   ]
  },
  {
   "cell_type": "code",
   "execution_count": 33,
   "id": "04953a36",
   "metadata": {},
   "outputs": [
    {
     "data": {
      "text/plain": [
       "113902"
      ]
     },
     "execution_count": 33,
     "metadata": {},
     "output_type": "execute_result"
    }
   ],
   "source": [
    "(\n",
    "    case_df.filter(case_df.dept_division == 'Field Operations')\n",
    "    .filter(case_df.service_request_type != 'Officer Standby')\n",
    "    .count()\n",
    ")"
   ]
  },
  {
   "cell_type": "markdown",
   "id": "a6a1c583",
   "metadata": {},
   "source": [
    "__4) Convert the council_district column to a string column.__"
   ]
  },
  {
   "cell_type": "markdown",
   "id": "368a6553",
   "metadata": {},
   "source": [
    "This was already done in part 1."
   ]
  },
  {
   "cell_type": "markdown",
   "id": "cea02e41",
   "metadata": {},
   "source": [
    "__5) Extract the year from the case_closed_date column.__"
   ]
  },
  {
   "cell_type": "code",
   "execution_count": 35,
   "id": "552c94b1",
   "metadata": {},
   "outputs": [
    {
     "name": "stdout",
     "output_type": "stream",
     "text": [
      "+-------------------+----------------------+\n",
      "|   case_closed_date|year(case_closed_date)|\n",
      "+-------------------+----------------------+\n",
      "|2018-01-01 12:29:00|                  2018|\n",
      "|2018-01-03 08:11:00|                  2018|\n",
      "|2018-01-02 07:57:00|                  2018|\n",
      "|2018-01-02 08:13:00|                  2018|\n",
      "|2018-01-01 13:29:00|                  2018|\n",
      "+-------------------+----------------------+\n",
      "only showing top 5 rows\n",
      "\n"
     ]
    }
   ],
   "source": [
    "from pyspark.sql.functions import month, year, quarter\n",
    "\n",
    "case_df.select('case_closed_date', year('case_closed_date')).show(5)"
   ]
  },
  {
   "cell_type": "markdown",
   "id": "e530db42",
   "metadata": {},
   "source": [
    "__6) Convert num_days_late from days to hours in new columns num_hours_late.__"
   ]
  },
  {
   "cell_type": "code",
   "execution_count": 37,
   "id": "84713e4a",
   "metadata": {},
   "outputs": [
    {
     "name": "stdout",
     "output_type": "stream",
     "text": [
      "+-------------+--------------+\n",
      "|num_days_late|num_hours_late|\n",
      "+-------------+--------------+\n",
      "|         -998|        -23952|\n",
      "|           -2|           -48|\n",
      "|           -3|           -72|\n",
      "|          -15|          -360|\n",
      "|            0|             0|\n",
      "|          -29|          -696|\n",
      "|          -14|          -336|\n",
      "|          -14|          -336|\n",
      "|          -14|          -336|\n",
      "|          -14|          -336|\n",
      "+-------------+--------------+\n",
      "only showing top 10 rows\n",
      "\n"
     ]
    }
   ],
   "source": [
    "(\n",
    "    case_df.withColumn('num_hours_late', case_df.num_days_late * 24)\n",
    "    .select('num_days_late', 'num_hours_late')\n",
    "    .show(10)\n",
    ")"
   ]
  },
  {
   "cell_type": "markdown",
   "id": "897911e2",
   "metadata": {},
   "source": [
    "__7) Join the case data with the source and department data.__"
   ]
  },
  {
   "cell_type": "code",
   "execution_count": 39,
   "id": "e71f382a",
   "metadata": {},
   "outputs": [],
   "source": [
    "case_df = case_df.join(dept_df, 'dept_division', 'left').join(source_df, 'source_id', 'left')"
   ]
  },
  {
   "cell_type": "markdown",
   "id": "3e0e48f5",
   "metadata": {},
   "source": [
    "__8) Are there any cases that do not have a request source?__"
   ]
  },
  {
   "cell_type": "code",
   "execution_count": 41,
   "id": "b9e60c92",
   "metadata": {},
   "outputs": [
    {
     "name": "stdout",
     "output_type": "stream",
     "text": [
      "+------------+\n",
      "|sum(is_null)|\n",
      "+------------+\n",
      "|           0|\n",
      "+------------+\n",
      "\n"
     ]
    }
   ],
   "source": [
    "from pyspark.sql.functions import sum\n",
    "\n",
    "(\n",
    "    case_df.select(case_df.source_id.isNull().cast('int').alias('is_null'))\n",
    "    .agg(sum('is_null'))\n",
    "    .show()\n",
    ")"
   ]
  },
  {
   "cell_type": "markdown",
   "id": "a0f3cbd4",
   "metadata": {},
   "source": [
    "__9) What are the top 10 service request types in terms of number of requests?__"
   ]
  },
  {
   "cell_type": "code",
   "execution_count": 42,
   "id": "d2f94385",
   "metadata": {},
   "outputs": [
    {
     "name": "stdout",
     "output_type": "stream",
     "text": [
      "+--------------------------------+-----+\n",
      "|service_request_type            |count|\n",
      "+--------------------------------+-----+\n",
      "|No Pickup                       |89210|\n",
      "|Overgrown Yard/Trash            |66403|\n",
      "|Bandit Signs                    |32968|\n",
      "|Damaged Cart                    |31163|\n",
      "|Front Or Side Yard Parking      |28920|\n",
      "|Stray Animal                    |27361|\n",
      "|Aggressive Animal(Non-Critical) |25492|\n",
      "|Cart Exchange Request           |22608|\n",
      "|Junk Vehicle On Private Property|21649|\n",
      "|Pot Hole Repair                 |20827|\n",
      "+--------------------------------+-----+\n",
      "only showing top 10 rows\n",
      "\n"
     ]
    }
   ],
   "source": [
    "(\n",
    "    case_df.groupby('service_request_type')\n",
    "    .count()\n",
    "    .sort(col('count').desc())\n",
    "    .show(10, truncate=False)\n",
    ")"
   ]
  },
  {
   "cell_type": "markdown",
   "id": "9a62c676",
   "metadata": {},
   "source": [
    "__10) What are the top 10 service request types in terms of average days late?__"
   ]
  },
  {
   "cell_type": "code",
   "execution_count": 53,
   "id": "cb047056",
   "metadata": {},
   "outputs": [
    {
     "name": "stdout",
     "output_type": "stream",
     "text": [
      "+--------------------+-----------+-------+\n",
      "|service_request_type|n_days_late|n_cases|\n",
      "+--------------------+-----------+-------+\n",
      "+--------------------+-----------+-------+\n",
      "\n"
     ]
    }
   ],
   "source": [
    "from pyspark.sql.functions import mean, count, desc\n",
    "\n",
    "(\n",
    "    case_df.where('case_late') # just the rows where case_late == true\n",
    "    .groupBy('service_request_type')\n",
    "    .agg(mean('num_days_late').alias('n_days_late'), count('*').alias('n_cases'))\n",
    "    .sort(desc('n_days_late'))\n",
    "    .show(10, truncate=False)\n",
    ")"
   ]
  },
  {
   "cell_type": "markdown",
   "id": "c1120237",
   "metadata": {},
   "source": [
    "__11) Does number of days late depend on department?__"
   ]
  },
  {
   "cell_type": "code",
   "execution_count": 50,
   "id": "f2fc58a0",
   "metadata": {},
   "outputs": [
    {
     "name": "stdout",
     "output_type": "stream",
     "text": [
      "+---------+---------+------------+\n",
      "|dept_name|days_late|n_cases_late|\n",
      "+---------+---------+------------+\n",
      "+---------+---------+------------+\n",
      "\n"
     ]
    }
   ],
   "source": [
    "from pyspark.sql.functions import round\n",
    "\n",
    "(\n",
    "    case_df.filter('case_late')\n",
    "    .groupby('dept_name')\n",
    "    .agg(mean('num_days_late').alias('days_late'), count('num_days_late').alias('n_cases_late'))\n",
    "    .sort('days_late')\n",
    "    .withColumn('days_late', round(col('days_late'), 1))\n",
    "    .show(truncate=False)\n",
    ")"
   ]
  },
  {
   "cell_type": "code",
   "execution_count": 51,
   "id": "fea488e7",
   "metadata": {},
   "outputs": [
    {
     "name": "stdout",
     "output_type": "stream",
     "text": [
      "+-------------------------+------+\n",
      "|dept_name                |count |\n",
      "+-------------------------+------+\n",
      "|Animal Care Services     |119362|\n",
      "|Solid Waste Management   |286287|\n",
      "|Development Services     |1397  |\n",
      "|Trans & Cap Improvements |97841 |\n",
      "|Customer Service         |2889  |\n",
      "|Metro Health             |5313  |\n",
      "|Parks and Recreation     |19964 |\n",
      "|Code Enforcement Services|321984|\n",
      "|City Council             |34    |\n",
      "|null                     |198   |\n",
      "+-------------------------+------+\n",
      "\n"
     ]
    }
   ],
   "source": [
    "case_df.groupby('dept_name').count().show(truncate=False)"
   ]
  },
  {
   "cell_type": "markdown",
   "id": "b085f1f1",
   "metadata": {},
   "source": [
    "__12) How do number of days late depend on department and request type?__"
   ]
  },
  {
   "cell_type": "code",
   "execution_count": 55,
   "id": "79674f93",
   "metadata": {},
   "outputs": [
    {
     "name": "stdout",
     "output_type": "stream",
     "text": [
      "+----------------------+--------------------+---------+-------+\n",
      "|standardized_dept_name|service_request_type|days_late|n_cases|\n",
      "+----------------------+--------------------+---------+-------+\n",
      "+----------------------+--------------------+---------+-------+\n",
      "\n"
     ]
    }
   ],
   "source": [
    "from pyspark.sql.functions import avg\n",
    "\n",
    "(\n",
    "    case_df.filter(\"case_closed\")\n",
    "#     .filter(\"case_late\")\n",
    "    .groupby(\"standardized_dept_name\", \"service_request_type\")\n",
    "    .agg(avg(\"num_days_late\").alias(\"days_late\"), count(\"*\").alias(\"n_cases\"))\n",
    "    .withColumn(\"days_late\", round(col(\"days_late\"), 1))\n",
    "    .where(col('days_late') > 0)\n",
    "    .sort(desc(\"days_late\"))\n",
    "    .show(40, truncate=False)\n",
    ")"
   ]
  },
  {
   "cell_type": "code",
   "execution_count": null,
   "id": "06762c62",
   "metadata": {},
   "outputs": [],
   "source": []
  }
 ],
 "metadata": {
  "kernelspec": {
   "display_name": "Python 3",
   "language": "python",
   "name": "python3"
  },
  "language_info": {
   "codemirror_mode": {
    "name": "ipython",
    "version": 3
   },
   "file_extension": ".py",
   "mimetype": "text/x-python",
   "name": "python",
   "nbconvert_exporter": "python",
   "pygments_lexer": "ipython3",
   "version": "3.9.1"
  }
 },
 "nbformat": 4,
 "nbformat_minor": 5
}
