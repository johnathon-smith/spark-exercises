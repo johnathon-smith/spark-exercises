{
 "cells": [
  {
   "cell_type": "markdown",
   "id": "f94dd53b",
   "metadata": {},
   "source": [
    "# Spark API Exercises"
   ]
  },
  {
   "cell_type": "markdown",
   "id": "5506f33d",
   "metadata": {},
   "source": [
    "__1) Create a spark data frame that contains your favorite programming languages.__\n",
    "\n",
    "* The name of the column should be language\n",
    "* View the schema of the dataframe\n",
    "* Output the shape of the dataframe\n",
    "* Show the first 5 records in the dataframe"
   ]
  },
  {
   "cell_type": "code",
   "execution_count": 1,
   "id": "56eaa620",
   "metadata": {},
   "outputs": [],
   "source": [
    "import pandas as pd\n",
    "import numpy as np\n",
    "import pyspark"
   ]
  },
  {
   "cell_type": "code",
   "execution_count": 2,
   "id": "5dac79ac",
   "metadata": {},
   "outputs": [],
   "source": [
    "#Create the df\n",
    "languages = pd.DataFrame({\n",
    "    'language': ['Python', 'C#', 'C', 'C++', 'SQL', 'Java', 'JavaScript']\n",
    "})"
   ]
  },
  {
   "cell_type": "code",
   "execution_count": 5,
   "id": "34789d89",
   "metadata": {},
   "outputs": [],
   "source": [
    "#Start spark\n",
    "spark = pyspark.sql.SparkSession.builder.getOrCreate()\n",
    "\n",
    "#Create spark df\n",
    "df = spark.createDataFrame(languages)"
   ]
  },
  {
   "cell_type": "code",
   "execution_count": 45,
   "id": "c157fa9e",
   "metadata": {},
   "outputs": [
    {
     "name": "stdout",
     "output_type": "stream",
     "text": [
      "root\n",
      " |-- language: string (nullable = true)\n",
      "\n"
     ]
    }
   ],
   "source": [
    "#Show the schema\n",
    "df.printSchema()"
   ]
  },
  {
   "cell_type": "code",
   "execution_count": 15,
   "id": "a4b46528",
   "metadata": {},
   "outputs": [
    {
     "data": {
      "text/plain": [
       "(7, 1)"
      ]
     },
     "execution_count": 15,
     "metadata": {},
     "output_type": "execute_result"
    }
   ],
   "source": [
    "#Show the shape. # rows, # columns\n",
    "df.count(), len(df.columns)"
   ]
  },
  {
   "cell_type": "code",
   "execution_count": 16,
   "id": "b99f39c3",
   "metadata": {},
   "outputs": [
    {
     "name": "stdout",
     "output_type": "stream",
     "text": [
      "+--------+\n",
      "|language|\n",
      "+--------+\n",
      "|  Python|\n",
      "|      C#|\n",
      "|       C|\n",
      "|     C++|\n",
      "|     SQL|\n",
      "+--------+\n",
      "only showing top 5 rows\n",
      "\n"
     ]
    }
   ],
   "source": [
    "df.show(5)"
   ]
  },
  {
   "cell_type": "markdown",
   "id": "00a9176b",
   "metadata": {},
   "source": [
    "__2) Load the mpg dataset as a spark dataframe.__"
   ]
  },
  {
   "cell_type": "code",
   "execution_count": 17,
   "id": "f41575b7",
   "metadata": {},
   "outputs": [],
   "source": [
    "from pydataset import data"
   ]
  },
  {
   "cell_type": "code",
   "execution_count": 31,
   "id": "19d8f433",
   "metadata": {},
   "outputs": [],
   "source": [
    "#Get the df\n",
    "mpg = data('mpg')"
   ]
  },
  {
   "cell_type": "code",
   "execution_count": 32,
   "id": "24ef8079",
   "metadata": {},
   "outputs": [],
   "source": [
    "#Create spark df\n",
    "mpg = spark.createDataFrame(mpg)"
   ]
  },
  {
   "cell_type": "code",
   "execution_count": 23,
   "id": "72aac7e7",
   "metadata": {},
   "outputs": [
    {
     "name": "stdout",
     "output_type": "stream",
     "text": [
      "+------------+-----+-----+----+---+----------+---+---+---+---+-------+\n",
      "|manufacturer|model|displ|year|cyl|     trans|drv|cty|hwy| fl|  class|\n",
      "+------------+-----+-----+----+---+----------+---+---+---+---+-------+\n",
      "|        audi|   a4|  1.8|1999|  4|  auto(l5)|  f| 18| 29|  p|compact|\n",
      "|        audi|   a4|  1.8|1999|  4|manual(m5)|  f| 21| 29|  p|compact|\n",
      "+------------+-----+-----+----+---+----------+---+---+---+---+-------+\n",
      "only showing top 2 rows\n",
      "\n"
     ]
    }
   ],
   "source": [
    "mpg.show(2)"
   ]
  },
  {
   "cell_type": "markdown",
   "id": "2997199c",
   "metadata": {},
   "source": [
    "__a) Create 1 column of output that contains a message like the one below or each vehicle:__\n",
    "    \n",
    "* The 1999 audi a4 has a 4 cylinder engine."
   ]
  },
  {
   "cell_type": "code",
   "execution_count": 25,
   "id": "7bd9e1c9",
   "metadata": {},
   "outputs": [],
   "source": [
    "from pyspark.sql.functions import concat, lit"
   ]
  },
  {
   "cell_type": "code",
   "execution_count": 35,
   "id": "b7208f1c",
   "metadata": {},
   "outputs": [
    {
     "name": "stdout",
     "output_type": "stream",
     "text": [
      "+--------------------------------------------------------------+\n",
      "|string                                                        |\n",
      "+--------------------------------------------------------------+\n",
      "|The 1999 audi a4 has a 4 cylinder engine.                     |\n",
      "|The 1999 audi a4 has a 4 cylinder engine.                     |\n",
      "|The 2008 audi a4 has a 4 cylinder engine.                     |\n",
      "|The 2008 audi a4 has a 4 cylinder engine.                     |\n",
      "|The 1999 audi a4 has a 6 cylinder engine.                     |\n",
      "|The 1999 audi a4 has a 6 cylinder engine.                     |\n",
      "|The 2008 audi a4 has a 6 cylinder engine.                     |\n",
      "|The 1999 audi a4 quattro has a 4 cylinder engine.             |\n",
      "|The 1999 audi a4 quattro has a 4 cylinder engine.             |\n",
      "|The 2008 audi a4 quattro has a 4 cylinder engine.             |\n",
      "|The 2008 audi a4 quattro has a 4 cylinder engine.             |\n",
      "|The 1999 audi a4 quattro has a 6 cylinder engine.             |\n",
      "|The 1999 audi a4 quattro has a 6 cylinder engine.             |\n",
      "|The 2008 audi a4 quattro has a 6 cylinder engine.             |\n",
      "|The 2008 audi a4 quattro has a 6 cylinder engine.             |\n",
      "|The 1999 audi a6 quattro has a 6 cylinder engine.             |\n",
      "|The 2008 audi a6 quattro has a 6 cylinder engine.             |\n",
      "|The 2008 audi a6 quattro has a 8 cylinder engine.             |\n",
      "|The 2008 chevrolet c1500 suburban 2wd has a 8 cylinder engine.|\n",
      "|The 2008 chevrolet c1500 suburban 2wd has a 8 cylinder engine.|\n",
      "+--------------------------------------------------------------+\n",
      "only showing top 20 rows\n",
      "\n"
     ]
    }
   ],
   "source": [
    "mpg.select(concat(lit('The '), 'year', lit(' '), 'manufacturer', lit(' '), 'model', lit(' has a '), 'cyl', lit(' cylinder engine.')).alias('string')).show(truncate = False)"
   ]
  },
  {
   "cell_type": "markdown",
   "id": "95b9d817",
   "metadata": {},
   "source": [
    "__b) Transform the trans column so that it only contains either manual or auto.__"
   ]
  },
  {
   "cell_type": "code",
   "execution_count": 36,
   "id": "17446c72",
   "metadata": {},
   "outputs": [],
   "source": [
    "from pyspark.sql.functions import regexp_replace"
   ]
  },
  {
   "cell_type": "code",
   "execution_count": 38,
   "id": "de7b18e1",
   "metadata": {},
   "outputs": [
    {
     "name": "stdout",
     "output_type": "stream",
     "text": [
      "+----------+-----------------------------------+\n",
      "|     trans|regexp_replace(trans, \\(.*\\)$, , 1)|\n",
      "+----------+-----------------------------------+\n",
      "|  auto(l5)|                               auto|\n",
      "|manual(m5)|                             manual|\n",
      "|manual(m6)|                             manual|\n",
      "|  auto(av)|                               auto|\n",
      "|  auto(l5)|                               auto|\n",
      "|manual(m5)|                             manual|\n",
      "|  auto(av)|                               auto|\n",
      "|manual(m5)|                             manual|\n",
      "|  auto(l5)|                               auto|\n",
      "|manual(m6)|                             manual|\n",
      "|  auto(s6)|                               auto|\n",
      "|  auto(l5)|                               auto|\n",
      "|manual(m5)|                             manual|\n",
      "|  auto(s6)|                               auto|\n",
      "|manual(m6)|                             manual|\n",
      "|  auto(l5)|                               auto|\n",
      "|  auto(s6)|                               auto|\n",
      "|  auto(s6)|                               auto|\n",
      "|  auto(l4)|                               auto|\n",
      "|  auto(l4)|                               auto|\n",
      "+----------+-----------------------------------+\n",
      "only showing top 20 rows\n",
      "\n"
     ]
    }
   ],
   "source": [
    "mpg.select('trans', regexp_replace('trans', r'\\(.*\\)$', '')).show()"
   ]
  },
  {
   "cell_type": "markdown",
   "id": "78f2ed24",
   "metadata": {},
   "source": [
    "__3) Load the tips dataset as a spark dataframe.__"
   ]
  },
  {
   "cell_type": "code",
   "execution_count": 59,
   "id": "3d9d2654",
   "metadata": {},
   "outputs": [],
   "source": [
    "#Load the data\n",
    "tips = data('tips')"
   ]
  },
  {
   "cell_type": "code",
   "execution_count": 60,
   "id": "277d107a",
   "metadata": {},
   "outputs": [],
   "source": [
    "#Create the spark df\n",
    "tips = spark.createDataFrame(tips)"
   ]
  },
  {
   "cell_type": "markdown",
   "id": "6d9c5530",
   "metadata": {},
   "source": [
    "__a) What percentage of observations are smokers?__"
   ]
  },
  {
   "cell_type": "code",
   "execution_count": 43,
   "id": "ee919fd1",
   "metadata": {},
   "outputs": [],
   "source": [
    "from pyspark.sql.functions import min, max, mean, asc, desc"
   ]
  },
  {
   "cell_type": "code",
   "execution_count": 51,
   "id": "92984f8e",
   "metadata": {},
   "outputs": [
    {
     "name": "stdout",
     "output_type": "stream",
     "text": [
      "+----------+----+------+------+---+------+----+\n",
      "|total_bill| tip|   sex|smoker|day|  time|size|\n",
      "+----------+----+------+------+---+------+----+\n",
      "|     16.99|1.01|Female|    No|Sun|Dinner|   2|\n",
      "|     10.34|1.66|  Male|    No|Sun|Dinner|   3|\n",
      "|     21.01| 3.5|  Male|    No|Sun|Dinner|   3|\n",
      "+----------+----+------+------+---+------+----+\n",
      "only showing top 3 rows\n",
      "\n"
     ]
    }
   ],
   "source": [
    "tips.show(3)"
   ]
  },
  {
   "cell_type": "code",
   "execution_count": 54,
   "id": "de972bc3",
   "metadata": {},
   "outputs": [
    {
     "data": {
      "text/plain": [
       "0.38114754098360654"
      ]
     },
     "execution_count": 54,
     "metadata": {},
     "output_type": "execute_result"
    }
   ],
   "source": [
    "(tips.filter(tips.smoker == 'Yes').count() / tips.count())"
   ]
  },
  {
   "cell_type": "markdown",
   "id": "5d62fd89",
   "metadata": {},
   "source": [
    "__b) Create a column that contains the tip percentage__"
   ]
  },
  {
   "cell_type": "code",
   "execution_count": 61,
   "id": "f0faefbe",
   "metadata": {},
   "outputs": [
    {
     "name": "stdout",
     "output_type": "stream",
     "text": [
      "+----------+----+------+------+---+------+----+-------------------+\n",
      "|total_bill| tip|   sex|smoker|day|  time|size|     tip_percentage|\n",
      "+----------+----+------+------+---+------+----+-------------------+\n",
      "|     16.99|1.01|Female|    No|Sun|Dinner|   2|0.05944673337257211|\n",
      "|     10.34|1.66|  Male|    No|Sun|Dinner|   3|0.16054158607350097|\n",
      "|     21.01| 3.5|  Male|    No|Sun|Dinner|   3|0.16658733936220846|\n",
      "|     23.68|3.31|  Male|    No|Sun|Dinner|   2| 0.1397804054054054|\n",
      "|     24.59|3.61|Female|    No|Sun|Dinner|   4|0.14680764538430255|\n",
      "|     25.29|4.71|  Male|    No|Sun|Dinner|   4|0.18623962040332148|\n",
      "|      8.77| 2.0|  Male|    No|Sun|Dinner|   2|0.22805017103762829|\n",
      "|     26.88|3.12|  Male|    No|Sun|Dinner|   4|0.11607142857142858|\n",
      "|     15.04|1.96|  Male|    No|Sun|Dinner|   2|0.13031914893617022|\n",
      "|     14.78|3.23|  Male|    No|Sun|Dinner|   2| 0.2185385656292287|\n",
      "|     10.27|1.71|  Male|    No|Sun|Dinner|   2| 0.1665043816942551|\n",
      "|     35.26| 5.0|Female|    No|Sun|Dinner|   4|0.14180374361883155|\n",
      "|     15.42|1.57|  Male|    No|Sun|Dinner|   2|0.10181582360570687|\n",
      "|     18.43| 3.0|  Male|    No|Sun|Dinner|   4|0.16277807921866522|\n",
      "|     14.83|3.02|Female|    No|Sun|Dinner|   2|0.20364126770060686|\n",
      "|     21.58|3.92|  Male|    No|Sun|Dinner|   2|0.18164967562557924|\n",
      "|     10.33|1.67|Female|    No|Sun|Dinner|   3| 0.1616650532429816|\n",
      "|     16.29|3.71|  Male|    No|Sun|Dinner|   3|0.22774708410067526|\n",
      "|     16.97| 3.5|Female|    No|Sun|Dinner|   3|0.20624631703005306|\n",
      "|     20.65|3.35|  Male|    No|Sat|Dinner|   3|0.16222760290556903|\n",
      "+----------+----+------+------+---+------+----+-------------------+\n",
      "only showing top 20 rows\n",
      "\n"
     ]
    }
   ],
   "source": [
    "tips = tips.select('*', (tips.tip / tips.total_bill).alias('tip_percentage'))\n",
    "tips.show()"
   ]
  },
  {
   "cell_type": "markdown",
   "id": "47a3dcdd",
   "metadata": {},
   "source": [
    "__c) Calculate the average tip percentage for each combination of sex and smoker__"
   ]
  },
  {
   "cell_type": "code",
   "execution_count": 62,
   "id": "f9cc228b",
   "metadata": {},
   "outputs": [
    {
     "name": "stdout",
     "output_type": "stream",
     "text": [
      "+------+------+-------------------+\n",
      "|   sex|smoker|avg(tip_percentage)|\n",
      "+------+------+-------------------+\n",
      "|  Male|    No| 0.1606687151291298|\n",
      "|Female|    No| 0.1569209707691836|\n",
      "|  Male|   Yes|0.15277117520248512|\n",
      "|Female|   Yes|0.18215035269941032|\n",
      "+------+------+-------------------+\n",
      "\n"
     ]
    }
   ],
   "source": [
    "tips.groupBy('sex', 'smoker').agg(mean('tip_percentage')).show()"
   ]
  },
  {
   "cell_type": "markdown",
   "id": "5d02c7e0",
   "metadata": {},
   "source": [
    "__4) Use the seattle weather dataset referenced in the lesson to answer the questions below.__"
   ]
  },
  {
   "cell_type": "code",
   "execution_count": 63,
   "id": "6eade2ff",
   "metadata": {},
   "outputs": [],
   "source": [
    "from vega_datasets import data"
   ]
  },
  {
   "cell_type": "code",
   "execution_count": 73,
   "id": "b6954195",
   "metadata": {},
   "outputs": [],
   "source": [
    "#Load the data\n",
    "weather = data.seattle_weather()"
   ]
  },
  {
   "cell_type": "code",
   "execution_count": 74,
   "id": "00204886",
   "metadata": {},
   "outputs": [],
   "source": [
    "weather = spark.createDataFrame(weather)"
   ]
  },
  {
   "cell_type": "code",
   "execution_count": 66,
   "id": "f3932a11",
   "metadata": {},
   "outputs": [
    {
     "name": "stdout",
     "output_type": "stream",
     "text": [
      "root\n",
      " |-- date: timestamp (nullable = true)\n",
      " |-- precipitation: double (nullable = true)\n",
      " |-- temp_max: double (nullable = true)\n",
      " |-- temp_min: double (nullable = true)\n",
      " |-- wind: double (nullable = true)\n",
      " |-- weather: string (nullable = true)\n",
      "\n"
     ]
    }
   ],
   "source": [
    "weather.printSchema()"
   ]
  },
  {
   "cell_type": "code",
   "execution_count": 67,
   "id": "bd6040ae",
   "metadata": {},
   "outputs": [
    {
     "name": "stdout",
     "output_type": "stream",
     "text": [
      "+-------------------+-------------+--------+--------+----+-------+\n",
      "|               date|precipitation|temp_max|temp_min|wind|weather|\n",
      "+-------------------+-------------+--------+--------+----+-------+\n",
      "|2012-01-01 00:00:00|          0.0|    12.8|     5.0| 4.7|drizzle|\n",
      "|2012-01-02 00:00:00|         10.9|    10.6|     2.8| 4.5|   rain|\n",
      "|2012-01-03 00:00:00|          0.8|    11.7|     7.2| 2.3|   rain|\n",
      "|2012-01-04 00:00:00|         20.3|    12.2|     5.6| 4.7|   rain|\n",
      "|2012-01-05 00:00:00|          1.3|     8.9|     2.8| 6.1|   rain|\n",
      "+-------------------+-------------+--------+--------+----+-------+\n",
      "only showing top 5 rows\n",
      "\n"
     ]
    }
   ],
   "source": [
    "weather.show(5)"
   ]
  },
  {
   "cell_type": "markdown",
   "id": "f9c98e9f",
   "metadata": {},
   "source": [
    "__a) Convert the temperatures to fahrenheit.__"
   ]
  },
  {
   "cell_type": "code",
   "execution_count": 75,
   "id": "7d81ec58",
   "metadata": {},
   "outputs": [],
   "source": [
    "# F = C * 1.8 + 32\n",
    "weather = weather.select('date', 'precipitation', (weather.temp_max * 1.8 + 32).cast('int').alias('temp_max'), (weather.temp_min * 1.8 + 32).cast('int').alias('temp_min'), 'wind', 'weather')"
   ]
  },
  {
   "cell_type": "code",
   "execution_count": 76,
   "id": "b36736a3",
   "metadata": {},
   "outputs": [
    {
     "name": "stdout",
     "output_type": "stream",
     "text": [
      "+-------------------+-------------+--------+--------+----+-------+\n",
      "|               date|precipitation|temp_max|temp_min|wind|weather|\n",
      "+-------------------+-------------+--------+--------+----+-------+\n",
      "|2012-01-01 00:00:00|          0.0|      55|      41| 4.7|drizzle|\n",
      "|2012-01-02 00:00:00|         10.9|      51|      37| 4.5|   rain|\n",
      "|2012-01-03 00:00:00|          0.8|      53|      44| 2.3|   rain|\n",
      "|2012-01-04 00:00:00|         20.3|      53|      42| 4.7|   rain|\n",
      "|2012-01-05 00:00:00|          1.3|      48|      37| 6.1|   rain|\n",
      "+-------------------+-------------+--------+--------+----+-------+\n",
      "only showing top 5 rows\n",
      "\n"
     ]
    }
   ],
   "source": [
    "weather.show(5)"
   ]
  },
  {
   "cell_type": "markdown",
   "id": "7683a3e1",
   "metadata": {},
   "source": [
    "__b) Which month has the most rain, on average?__"
   ]
  },
  {
   "cell_type": "code",
   "execution_count": 81,
   "id": "81800ee4",
   "metadata": {},
   "outputs": [],
   "source": [
    "from pyspark.sql.functions import month, year, quarter"
   ]
  },
  {
   "cell_type": "code",
   "execution_count": 95,
   "id": "daa565f2",
   "metadata": {},
   "outputs": [
    {
     "name": "stdout",
     "output_type": "stream",
     "text": [
      "+-----------+------------------+\n",
      "|month(date)|avg(precipitation)|\n",
      "+-----------+------------------+\n",
      "|         11| 5.354166666666667|\n",
      "+-----------+------------------+\n",
      "only showing top 1 row\n",
      "\n"
     ]
    }
   ],
   "source": [
    "weather.groupBy(month('date')).agg(mean('precipitation')).sort(desc('avg(precipitation)')).show(1)\n"
   ]
  },
  {
   "cell_type": "markdown",
   "id": "c13c8389",
   "metadata": {},
   "source": [
    "__c) Which year was the windiest?__"
   ]
  },
  {
   "cell_type": "code",
   "execution_count": 108,
   "id": "2a26d0c8",
   "metadata": {},
   "outputs": [],
   "source": [
    "from pyspark.sql.functions import sum"
   ]
  },
  {
   "cell_type": "code",
   "execution_count": 112,
   "id": "54d2e895",
   "metadata": {},
   "outputs": [
    {
     "name": "stdout",
     "output_type": "stream",
     "text": [
      "+----------+---------+\n",
      "|year(date)|sum(wind)|\n",
      "+----------+---------+\n",
      "|      2012|   1244.7|\n",
      "+----------+---------+\n",
      "only showing top 1 row\n",
      "\n"
     ]
    }
   ],
   "source": [
    "weather.groupBy(year('date')).agg(sum(\"wind\")).sort(desc('sum(wind)')).show(1)"
   ]
  },
  {
   "cell_type": "markdown",
   "id": "63053deb",
   "metadata": {},
   "source": [
    "__d) What is the most frequent type of weather in January?__"
   ]
  },
  {
   "cell_type": "code",
   "execution_count": 115,
   "id": "ef29558b",
   "metadata": {},
   "outputs": [
    {
     "name": "stdout",
     "output_type": "stream",
     "text": [
      "+-------+-----+\n",
      "|weather|count|\n",
      "+-------+-----+\n",
      "|    fog|   38|\n",
      "+-------+-----+\n",
      "only showing top 1 row\n",
      "\n"
     ]
    }
   ],
   "source": [
    "weather.filter(month('date') == 1).groupBy('weather').count().sort(desc('count')).show(1)"
   ]
  },
  {
   "cell_type": "markdown",
   "id": "b9a3b70c",
   "metadata": {},
   "source": [
    "__e) What is the average high and low temperature on sunny days in July in 2013 and 2014?__"
   ]
  },
  {
   "cell_type": "code",
   "execution_count": 120,
   "id": "3cc850a9",
   "metadata": {},
   "outputs": [
    {
     "name": "stdout",
     "output_type": "stream",
     "text": [
      "+-----------------+-----------------+\n",
      "|    avg(temp_max)|    avg(temp_min)|\n",
      "+-----------------+-----------------+\n",
      "|79.84615384615384|57.09615384615385|\n",
      "+-----------------+-----------------+\n",
      "\n"
     ]
    }
   ],
   "source": [
    "weather.filter( ((year('date') == 2013) | (year('date') == 2014)) & (month('date') == 7) & (weather.weather == 'sun') ).select(mean('temp_max'), mean('temp_min')).show()"
   ]
  },
  {
   "cell_type": "markdown",
   "id": "f055630f",
   "metadata": {},
   "source": [
    "__f) What percentage of days were rainy in q3 of 2015?__"
   ]
  },
  {
   "cell_type": "code",
   "execution_count": 121,
   "id": "6208ec17",
   "metadata": {},
   "outputs": [],
   "source": [
    "q3_2015 = weather.filter((quarter('date') == 3) & (year('date') == 2015))"
   ]
  },
  {
   "cell_type": "code",
   "execution_count": 122,
   "id": "eb7fa5ca",
   "metadata": {},
   "outputs": [
    {
     "data": {
      "text/plain": [
       "0.021739130434782608"
      ]
     },
     "execution_count": 122,
     "metadata": {},
     "output_type": "execute_result"
    }
   ],
   "source": [
    "q3_2015.filter(q3_2015.weather == 'rain').count() / q3_2015.count()"
   ]
  },
  {
   "cell_type": "markdown",
   "id": "68b603fb",
   "metadata": {},
   "source": [
    "__g) For each year, find what percentage of days it rained (had non-zero precipitation)__"
   ]
  },
  {
   "cell_type": "code",
   "execution_count": 165,
   "id": "6b762b89",
   "metadata": {},
   "outputs": [
    {
     "name": "stdout",
     "output_type": "stream",
     "text": [
      "+----+----------+\n",
      "|year|rainy_days|\n",
      "+----+----------+\n",
      "|2012|       177|\n",
      "|2013|       152|\n",
      "|2014|       150|\n",
      "|2015|       144|\n",
      "+----+----------+\n",
      "\n"
     ]
    }
   ],
   "source": [
    "rainy_days = weather.filter(weather.precipitation > 0).groupBy(year('date').alias('year')).count().withColumnRenamed('count','rainy_days')\n",
    "rainy_days.show()"
   ]
  },
  {
   "cell_type": "code",
   "execution_count": 166,
   "id": "f8500769",
   "metadata": {},
   "outputs": [
    {
     "name": "stdout",
     "output_type": "stream",
     "text": [
      "+-----+----------+\n",
      "|year1|total_days|\n",
      "+-----+----------+\n",
      "| 2012|       366|\n",
      "| 2013|       365|\n",
      "| 2014|       365|\n",
      "| 2015|       365|\n",
      "+-----+----------+\n",
      "\n"
     ]
    }
   ],
   "source": [
    "total_days = weather.groupBy(year('date').alias('year1')).count().withColumnRenamed('count', 'total_days')\n",
    "total_days.show()"
   ]
  },
  {
   "cell_type": "code",
   "execution_count": 168,
   "id": "6e463c5a",
   "metadata": {},
   "outputs": [],
   "source": [
    "rainy_days = rainy_days.join(total_days, on = rainy_days.year == total_days.year1).drop('year1')"
   ]
  },
  {
   "cell_type": "code",
   "execution_count": 169,
   "id": "c343d933",
   "metadata": {},
   "outputs": [
    {
     "name": "stdout",
     "output_type": "stream",
     "text": [
      "+----+----------+----------+\n",
      "|year|rainy_days|total_days|\n",
      "+----+----------+----------+\n",
      "|2012|       177|       366|\n",
      "|2013|       152|       365|\n",
      "|2014|       150|       365|\n",
      "|2015|       144|       365|\n",
      "+----+----------+----------+\n",
      "\n"
     ]
    }
   ],
   "source": [
    "rainy_days.show()"
   ]
  },
  {
   "cell_type": "code",
   "execution_count": 172,
   "id": "7a8a5d0d",
   "metadata": {},
   "outputs": [
    {
     "name": "stdout",
     "output_type": "stream",
     "text": [
      "+----+----------+----------+-------------------+\n",
      "|year|rainy_days|total_days|      percent_rainy|\n",
      "+----+----------+----------+-------------------+\n",
      "|2012|       177|       366|0.48360655737704916|\n",
      "|2013|       152|       365|0.41643835616438357|\n",
      "|2014|       150|       365|  0.410958904109589|\n",
      "|2015|       144|       365|0.39452054794520547|\n",
      "+----+----------+----------+-------------------+\n",
      "\n"
     ]
    }
   ],
   "source": [
    "rainy_days.withColumn('percent_rainy', rainy_days.rainy_days / rainy_days.total_days).show()"
   ]
  },
  {
   "cell_type": "code",
   "execution_count": null,
   "id": "6117bcf3",
   "metadata": {},
   "outputs": [],
   "source": []
  }
 ],
 "metadata": {
  "kernelspec": {
   "display_name": "Python 3",
   "language": "python",
   "name": "python3"
  },
  "language_info": {
   "codemirror_mode": {
    "name": "ipython",
    "version": 3
   },
   "file_extension": ".py",
   "mimetype": "text/x-python",
   "name": "python",
   "nbconvert_exporter": "python",
   "pygments_lexer": "ipython3",
   "version": "3.9.1"
  }
 },
 "nbformat": 4,
 "nbformat_minor": 5
}
