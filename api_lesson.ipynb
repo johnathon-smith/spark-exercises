{
 "cells": [
  {
   "cell_type": "markdown",
   "id": "35aa75cc-468b-4f20-88fb-119681fa48d7",
   "metadata": {},
   "source": [
    "# Spark API"
   ]
  },
  {
   "cell_type": "code",
   "execution_count": 1,
   "id": "7157792f-1e5e-4507-b95e-43f2737883e8",
   "metadata": {},
   "outputs": [],
   "source": [
    "import pydataset # for demonstration\n",
    "import pyspark"
   ]
  },
  {
   "cell_type": "code",
   "execution_count": 2,
   "id": "bf2f421a-5df7-4a78-8bd3-180f29c456ab",
   "metadata": {},
   "outputs": [],
   "source": [
    "spark = pyspark.sql.SparkSession.builder.getOrCreate()"
   ]
  },
  {
   "cell_type": "code",
   "execution_count": 3,
   "id": "1c0fbee4-b35d-4b3a-a657-75ec7e8a1edc",
   "metadata": {},
   "outputs": [
    {
     "data": {
      "text/html": [
       "<div>\n",
       "<style scoped>\n",
       "    .dataframe tbody tr th:only-of-type {\n",
       "        vertical-align: middle;\n",
       "    }\n",
       "\n",
       "    .dataframe tbody tr th {\n",
       "        vertical-align: top;\n",
       "    }\n",
       "\n",
       "    .dataframe thead th {\n",
       "        text-align: right;\n",
       "    }\n",
       "</style>\n",
       "<table border=\"1\" class=\"dataframe\">\n",
       "  <thead>\n",
       "    <tr style=\"text-align: right;\">\n",
       "      <th></th>\n",
       "      <th>total_bill</th>\n",
       "      <th>tip</th>\n",
       "      <th>sex</th>\n",
       "      <th>smoker</th>\n",
       "      <th>day</th>\n",
       "      <th>time</th>\n",
       "      <th>size</th>\n",
       "    </tr>\n",
       "  </thead>\n",
       "  <tbody>\n",
       "    <tr>\n",
       "      <th>1</th>\n",
       "      <td>16.99</td>\n",
       "      <td>1.01</td>\n",
       "      <td>Female</td>\n",
       "      <td>No</td>\n",
       "      <td>Sun</td>\n",
       "      <td>Dinner</td>\n",
       "      <td>2</td>\n",
       "    </tr>\n",
       "    <tr>\n",
       "      <th>2</th>\n",
       "      <td>10.34</td>\n",
       "      <td>1.66</td>\n",
       "      <td>Male</td>\n",
       "      <td>No</td>\n",
       "      <td>Sun</td>\n",
       "      <td>Dinner</td>\n",
       "      <td>3</td>\n",
       "    </tr>\n",
       "    <tr>\n",
       "      <th>3</th>\n",
       "      <td>21.01</td>\n",
       "      <td>3.50</td>\n",
       "      <td>Male</td>\n",
       "      <td>No</td>\n",
       "      <td>Sun</td>\n",
       "      <td>Dinner</td>\n",
       "      <td>3</td>\n",
       "    </tr>\n",
       "    <tr>\n",
       "      <th>4</th>\n",
       "      <td>23.68</td>\n",
       "      <td>3.31</td>\n",
       "      <td>Male</td>\n",
       "      <td>No</td>\n",
       "      <td>Sun</td>\n",
       "      <td>Dinner</td>\n",
       "      <td>2</td>\n",
       "    </tr>\n",
       "    <tr>\n",
       "      <th>5</th>\n",
       "      <td>24.59</td>\n",
       "      <td>3.61</td>\n",
       "      <td>Female</td>\n",
       "      <td>No</td>\n",
       "      <td>Sun</td>\n",
       "      <td>Dinner</td>\n",
       "      <td>4</td>\n",
       "    </tr>\n",
       "  </tbody>\n",
       "</table>\n",
       "</div>"
      ],
      "text/plain": [
       "   total_bill   tip     sex smoker  day    time  size\n",
       "1       16.99  1.01  Female     No  Sun  Dinner     2\n",
       "2       10.34  1.66    Male     No  Sun  Dinner     3\n",
       "3       21.01  3.50    Male     No  Sun  Dinner     3\n",
       "4       23.68  3.31    Male     No  Sun  Dinner     2\n",
       "5       24.59  3.61  Female     No  Sun  Dinner     4"
      ]
     },
     "execution_count": 3,
     "metadata": {},
     "output_type": "execute_result"
    }
   ],
   "source": [
    "tips = pydataset.data('tips')\n",
    "tips.head()"
   ]
  },
  {
   "cell_type": "code",
   "execution_count": 4,
   "id": "c063695a-fc4c-46ac-91aa-55ada7f2d350",
   "metadata": {},
   "outputs": [],
   "source": [
    "tips = spark.createDataFrame(tips) # any pandas dataframe"
   ]
  },
  {
   "cell_type": "code",
   "execution_count": 5,
   "id": "54559f3c-3a32-41b6-9591-ff05ccb062e7",
   "metadata": {},
   "outputs": [
    {
     "name": "stdout",
     "output_type": "stream",
     "text": [
      "+----------+----+------+------+---+------+----+\n",
      "|total_bill| tip|   sex|smoker|day|  time|size|\n",
      "+----------+----+------+------+---+------+----+\n",
      "|     16.99|1.01|Female|    No|Sun|Dinner|   2|\n",
      "|     10.34|1.66|  Male|    No|Sun|Dinner|   3|\n",
      "|     21.01| 3.5|  Male|    No|Sun|Dinner|   3|\n",
      "|     23.68|3.31|  Male|    No|Sun|Dinner|   2|\n",
      "|     24.59|3.61|Female|    No|Sun|Dinner|   4|\n",
      "|     25.29|4.71|  Male|    No|Sun|Dinner|   4|\n",
      "|      8.77| 2.0|  Male|    No|Sun|Dinner|   2|\n",
      "|     26.88|3.12|  Male|    No|Sun|Dinner|   4|\n",
      "|     15.04|1.96|  Male|    No|Sun|Dinner|   2|\n",
      "|     14.78|3.23|  Male|    No|Sun|Dinner|   2|\n",
      "|     10.27|1.71|  Male|    No|Sun|Dinner|   2|\n",
      "|     35.26| 5.0|Female|    No|Sun|Dinner|   4|\n",
      "|     15.42|1.57|  Male|    No|Sun|Dinner|   2|\n",
      "|     18.43| 3.0|  Male|    No|Sun|Dinner|   4|\n",
      "|     14.83|3.02|Female|    No|Sun|Dinner|   2|\n",
      "|     21.58|3.92|  Male|    No|Sun|Dinner|   2|\n",
      "|     10.33|1.67|Female|    No|Sun|Dinner|   3|\n",
      "|     16.29|3.71|  Male|    No|Sun|Dinner|   3|\n",
      "|     16.97| 3.5|Female|    No|Sun|Dinner|   3|\n",
      "|     20.65|3.35|  Male|    No|Sat|Dinner|   3|\n",
      "+----------+----+------+------+---+------+----+\n",
      "only showing top 20 rows\n",
      "\n"
     ]
    }
   ],
   "source": [
    "tips2 = tips.show()"
   ]
  },
  {
   "cell_type": "code",
   "execution_count": 6,
   "id": "81fe75ad-052b-4904-9ecf-98627b0fbde2",
   "metadata": {},
   "outputs": [],
   "source": [
    "tips2"
   ]
  },
  {
   "cell_type": "code",
   "execution_count": 7,
   "id": "a3ca9ff9-653b-4d0d-8a3b-f642747cb321",
   "metadata": {},
   "outputs": [
    {
     "data": {
      "text/plain": [
       "NoneType"
      ]
     },
     "execution_count": 7,
     "metadata": {},
     "output_type": "execute_result"
    }
   ],
   "source": [
    "type(tips2)"
   ]
  },
  {
   "cell_type": "code",
   "execution_count": 8,
   "id": "d8a540c7-c9ba-436d-a569-c96818b6b554",
   "metadata": {},
   "outputs": [],
   "source": [
    "first_five_rows = tips.head(5)"
   ]
  },
  {
   "cell_type": "code",
   "execution_count": 9,
   "id": "445bc0b5-a051-41de-b6cb-18af4c555106",
   "metadata": {},
   "outputs": [],
   "source": [
    "first_row = first_five_rows[0]"
   ]
  },
  {
   "cell_type": "code",
   "execution_count": 10,
   "id": "e38351f8-e37c-4235-b5c3-83d2c104c35d",
   "metadata": {},
   "outputs": [
    {
     "data": {
      "text/plain": [
       "16.99"
      ]
     },
     "execution_count": 10,
     "metadata": {},
     "output_type": "execute_result"
    }
   ],
   "source": [
    "first_row.total_bill"
   ]
  },
  {
   "cell_type": "code",
   "execution_count": 11,
   "id": "a1ce0113-d3c7-47be-b2a2-c3a6e79d307a",
   "metadata": {},
   "outputs": [
    {
     "data": {
      "text/plain": [
       "DataFrame[total_bill: double, tip: double, sex: string, smoker: string, day: string, time: string, size: bigint]"
      ]
     },
     "execution_count": 11,
     "metadata": {},
     "output_type": "execute_result"
    }
   ],
   "source": [
    "tips"
   ]
  },
  {
   "cell_type": "code",
   "execution_count": 12,
   "id": "3aab59b2-4d4a-4ef7-96ed-c66af2046e9c",
   "metadata": {},
   "outputs": [
    {
     "name": "stdout",
     "output_type": "stream",
     "text": [
      "+----------+------+---+\n",
      "|total_bill|smoker|day|\n",
      "+----------+------+---+\n",
      "|     16.99|    No|Sun|\n",
      "|     10.34|    No|Sun|\n",
      "|     21.01|    No|Sun|\n",
      "|     23.68|    No|Sun|\n",
      "|     24.59|    No|Sun|\n",
      "|     25.29|    No|Sun|\n",
      "|      8.77|    No|Sun|\n",
      "|     26.88|    No|Sun|\n",
      "|     15.04|    No|Sun|\n",
      "|     14.78|    No|Sun|\n",
      "|     10.27|    No|Sun|\n",
      "|     35.26|    No|Sun|\n",
      "|     15.42|    No|Sun|\n",
      "|     18.43|    No|Sun|\n",
      "|     14.83|    No|Sun|\n",
      "|     21.58|    No|Sun|\n",
      "|     10.33|    No|Sun|\n",
      "|     16.29|    No|Sun|\n",
      "|     16.97|    No|Sun|\n",
      "|     20.65|    No|Sat|\n",
      "+----------+------+---+\n",
      "only showing top 20 rows\n",
      "\n"
     ]
    }
   ],
   "source": [
    "tips.select('total_bill', 'smoker', 'day').show()"
   ]
  },
  {
   "cell_type": "code",
   "execution_count": 13,
   "id": "aedcf20c-dd00-4c6c-b4d2-6bc5f64ffcdf",
   "metadata": {},
   "outputs": [],
   "source": [
    "tip_percentage = tips.tip / tips.total_bill"
   ]
  },
  {
   "cell_type": "code",
   "execution_count": 14,
   "id": "241f04e6-b6c6-4f17-9a92-36e4e9654a21",
   "metadata": {},
   "outputs": [
    {
     "data": {
      "text/plain": [
       "Column<'(tip / total_bill) AS tip_perc'>"
      ]
     },
     "execution_count": 14,
     "metadata": {},
     "output_type": "execute_result"
    }
   ],
   "source": [
    "tip_percentage.alias('tip_perc')"
   ]
  },
  {
   "cell_type": "code",
   "execution_count": 15,
   "id": "c905f95c-bb20-4b60-b822-f66aa2f56761",
   "metadata": {},
   "outputs": [
    {
     "data": {
      "text/plain": [
       "Column<'(tip / total_bill)'>"
      ]
     },
     "execution_count": 15,
     "metadata": {},
     "output_type": "execute_result"
    }
   ],
   "source": [
    "tip_percentage"
   ]
  },
  {
   "cell_type": "code",
   "execution_count": 16,
   "id": "fdec5382-06b2-4b2a-a03d-6e1a1f8b779a",
   "metadata": {},
   "outputs": [
    {
     "data": {
      "text/plain": [
       "DataFrame[total_bill: double, tip: double, sex: string, smoker: string, day: string, time: string, size: bigint]"
      ]
     },
     "execution_count": 16,
     "metadata": {},
     "output_type": "execute_result"
    }
   ],
   "source": [
    "tips"
   ]
  },
  {
   "cell_type": "code",
   "execution_count": 17,
   "id": "036199d7-d0f1-4181-8735-9767e9cd2751",
   "metadata": {},
   "outputs": [],
   "source": [
    "tips = tips.select('*', tip_percentage.alias('tip_perc'))"
   ]
  },
  {
   "cell_type": "code",
   "execution_count": 18,
   "id": "cfc6bd06-a562-4a1b-b6cf-f3694eb889da",
   "metadata": {},
   "outputs": [
    {
     "data": {
      "text/plain": [
       "DataFrame[total_bill: double, tip: double, sex: string, smoker: string, day: string, time: string, size: bigint, tip_perc: double]"
      ]
     },
     "execution_count": 18,
     "metadata": {},
     "output_type": "execute_result"
    }
   ],
   "source": [
    "tips"
   ]
  },
  {
   "cell_type": "markdown",
   "id": "27be72c1-38a2-4ea6-8071-4c25a34edf7a",
   "metadata": {},
   "source": [
    "In spark, in order to modify objects, you must re-assign!\n",
    "\n",
    "Can we use pandas/numpy methods (e.g. `np.where`) with a spark dataframe? No, there's ways to do it w/ the spark API"
   ]
  },
  {
   "cell_type": "code",
   "execution_count": 19,
   "id": "7897acbf-4b00-4047-9077-a1279c4a7ec2",
   "metadata": {},
   "outputs": [
    {
     "data": {
      "text/plain": [
       "DataFrame[size: bigint, size: string]"
      ]
     },
     "execution_count": 19,
     "metadata": {},
     "output_type": "execute_result"
    }
   ],
   "source": [
    "tips.select('size', tips.size.cast('string'))"
   ]
  },
  {
   "cell_type": "code",
   "execution_count": 20,
   "id": "4b64e44c-42bb-42e3-9fb2-734e3b9792bd",
   "metadata": {},
   "outputs": [],
   "source": [
    "from pyspark.sql.functions import regexp_replace, regexp_extract"
   ]
  },
  {
   "cell_type": "code",
   "execution_count": 21,
   "id": "94d65194-138c-4e75-93d6-2deeff368c06",
   "metadata": {},
   "outputs": [
    {
     "data": {
      "text/plain": [
       "Column<'regexp_extract(time, ^(\\w), 1)'>"
      ]
     },
     "execution_count": 21,
     "metadata": {},
     "output_type": "execute_result"
    }
   ],
   "source": [
    "regexp_extract('time', r'^(\\w)', 1)"
   ]
  },
  {
   "cell_type": "code",
   "execution_count": 22,
   "id": "2826d7cb-f800-4e55-bf5c-ad708e9ea56d",
   "metadata": {},
   "outputs": [
    {
     "name": "stdout",
     "output_type": "stream",
     "text": [
      "+------+--------------------------------+------------+\n",
      "|  time|regexp_replace(time, .{3}$, , 1)|first_letter|\n",
      "+------+--------------------------------+------------+\n",
      "|Dinner|                             Din|           D|\n",
      "|Dinner|                             Din|           D|\n",
      "|Dinner|                             Din|           D|\n",
      "|Dinner|                             Din|           D|\n",
      "|Dinner|                             Din|           D|\n",
      "|Dinner|                             Din|           D|\n",
      "|Dinner|                             Din|           D|\n",
      "|Dinner|                             Din|           D|\n",
      "|Dinner|                             Din|           D|\n",
      "|Dinner|                             Din|           D|\n",
      "+------+--------------------------------+------------+\n",
      "only showing top 10 rows\n",
      "\n"
     ]
    }
   ],
   "source": [
    "tips.select(\n",
    "    'time',\n",
    "    regexp_replace('time', r'.{3}$', ''), # col, pattern, repl,\n",
    "    regexp_extract('time', r'^(\\w)', 1).alias('first_letter')\n",
    ").show(10)"
   ]
  },
  {
   "cell_type": "code",
   "execution_count": 23,
   "id": "8ecd9c7b-2d7a-4805-9bff-74a1f428e651",
   "metadata": {},
   "outputs": [
    {
     "data": {
      "text/plain": [
       "(8, 244)"
      ]
     },
     "execution_count": 23,
     "metadata": {},
     "output_type": "execute_result"
    }
   ],
   "source": [
    "len(tips.columns), tips.count()"
   ]
  },
  {
   "cell_type": "code",
   "execution_count": 24,
   "id": "532ccbb5-b65e-471a-b7ed-4ee17db48d80",
   "metadata": {},
   "outputs": [],
   "source": [
    "from pyspark.sql.functions import mean, sum"
   ]
  },
  {
   "cell_type": "code",
   "execution_count": 25,
   "id": "d0d88f06-a0ab-4082-a63c-4f890cb952bb",
   "metadata": {},
   "outputs": [
    {
     "name": "stdout",
     "output_type": "stream",
     "text": [
      "+------------------+\n",
      "|   avg(total_bill)|\n",
      "+------------------+\n",
      "|19.785942622950813|\n",
      "+------------------+\n",
      "\n"
     ]
    }
   ],
   "source": [
    "tips.select(mean('total_bill')).show()"
   ]
  },
  {
   "cell_type": "code",
   "execution_count": 26,
   "id": "d9661489-0a39-4201-9516-7b24a776a64c",
   "metadata": {},
   "outputs": [],
   "source": [
    "from pyspark.sql.functions import concat, lit"
   ]
  },
  {
   "cell_type": "code",
   "execution_count": 27,
   "id": "fe6c0421-f4da-4542-b31a-f002bbea0cf3",
   "metadata": {},
   "outputs": [
    {
     "name": "stdout",
     "output_type": "stream",
     "text": [
      "+----+-----------------------+\n",
      "|size|concat(Party of , size)|\n",
      "+----+-----------------------+\n",
      "|   2|             Party of 2|\n",
      "|   3|             Party of 3|\n",
      "|   3|             Party of 3|\n",
      "|   2|             Party of 2|\n",
      "|   4|             Party of 4|\n",
      "|   4|             Party of 4|\n",
      "|   2|             Party of 2|\n",
      "|   4|             Party of 4|\n",
      "|   2|             Party of 2|\n",
      "|   2|             Party of 2|\n",
      "|   2|             Party of 2|\n",
      "|   4|             Party of 4|\n",
      "|   2|             Party of 2|\n",
      "|   4|             Party of 4|\n",
      "|   2|             Party of 2|\n",
      "|   2|             Party of 2|\n",
      "|   3|             Party of 3|\n",
      "|   3|             Party of 3|\n",
      "|   3|             Party of 3|\n",
      "|   3|             Party of 3|\n",
      "+----+-----------------------+\n",
      "only showing top 20 rows\n",
      "\n"
     ]
    }
   ],
   "source": [
    "# party of 4, party of 3\n",
    "tips.select(\n",
    "    'size',\n",
    "    concat(lit('Party of '), 'size'),\n",
    ").show()"
   ]
  },
  {
   "cell_type": "code",
   "execution_count": 28,
   "id": "d876495c-120e-483b-b9bb-999c56149107",
   "metadata": {},
   "outputs": [],
   "source": [
    "from pyspark.sql.functions import when"
   ]
  },
  {
   "cell_type": "code",
   "execution_count": 29,
   "id": "2852d942-e3d2-4550-b9eb-a0de0bdfa1e5",
   "metadata": {},
   "outputs": [
    {
     "data": {
      "text/plain": [
       "Column<'CASE WHEN (tip_perc > 0.2) THEN good tip! ELSE not a good tip END'>"
      ]
     },
     "execution_count": 29,
     "metadata": {},
     "output_type": "execute_result"
    }
   ],
   "source": [
    "when(tips.tip_perc > .20, 'good tip!').otherwise('not a good tip')"
   ]
  },
  {
   "cell_type": "code",
   "execution_count": 30,
   "id": "3f99f9d2-7c7d-407e-af55-e0c58e664330",
   "metadata": {},
   "outputs": [
    {
     "name": "stdout",
     "output_type": "stream",
     "text": [
      "+-------------------+---------------+\n",
      "|           tip_perc|tip_description|\n",
      "+-------------------+---------------+\n",
      "|0.05944673337257211| not a good tip|\n",
      "|0.16054158607350097| not a good tip|\n",
      "|0.16658733936220846| not a good tip|\n",
      "| 0.1397804054054054| not a good tip|\n",
      "|0.14680764538430255| not a good tip|\n",
      "|0.18623962040332148| not a good tip|\n",
      "|0.22805017103762829|      good tip!|\n",
      "|0.11607142857142858| not a good tip|\n",
      "|0.13031914893617022| not a good tip|\n",
      "| 0.2185385656292287|      good tip!|\n",
      "| 0.1665043816942551| not a good tip|\n",
      "|0.14180374361883155| not a good tip|\n",
      "|0.10181582360570687| not a good tip|\n",
      "|0.16277807921866522| not a good tip|\n",
      "|0.20364126770060686|      good tip!|\n",
      "|0.18164967562557924| not a good tip|\n",
      "| 0.1616650532429816| not a good tip|\n",
      "|0.22774708410067526|      good tip!|\n",
      "|0.20624631703005306|      good tip!|\n",
      "|0.16222760290556903| not a good tip|\n",
      "+-------------------+---------------+\n",
      "only showing top 20 rows\n",
      "\n"
     ]
    }
   ],
   "source": [
    "tips.select(\n",
    "    'tip_perc',\n",
    "    when(tips.tip_perc > .20, 'good tip!').otherwise('not a good tip').alias('tip_description')\n",
    ").show()"
   ]
  },
  {
   "cell_type": "code",
   "execution_count": 31,
   "id": "69d84be5-addd-4fda-a87b-bdb2910be363",
   "metadata": {},
   "outputs": [
    {
     "name": "stdout",
     "output_type": "stream",
     "text": [
      "+----------+----+------+------+---+------+----+-------------------+\n",
      "|total_bill| tip|   sex|smoker|day|  time|size|           tip_perc|\n",
      "+----------+----+------+------+---+------+----+-------------------+\n",
      "|      8.77| 2.0|  Male|    No|Sun|Dinner|   2|0.22805017103762829|\n",
      "|     14.78|3.23|  Male|    No|Sun|Dinner|   2| 0.2185385656292287|\n",
      "|     14.83|3.02|Female|    No|Sun|Dinner|   2|0.20364126770060686|\n",
      "|     16.29|3.71|  Male|    No|Sun|Dinner|   3|0.22774708410067526|\n",
      "|     16.97| 3.5|Female|    No|Sun|Dinner|   3|0.20624631703005306|\n",
      "|     17.92|4.08|  Male|    No|Sat|Dinner|   2|0.22767857142857142|\n",
      "|     13.94|3.06|  Male|    No|Sun|Dinner|   2|0.21951219512195122|\n",
      "|     22.23| 5.0|  Male|    No|Sun|Dinner|   2|0.22492127755285649|\n",
      "|     10.29| 2.6|Female|    No|Sun|Dinner|   2| 0.2526724975704568|\n",
      "|     18.29|3.76|  Male|   Yes|Sat|Dinner|   4|0.20557681793329688|\n",
      "+----------+----+------+------+---+------+----+-------------------+\n",
      "only showing top 10 rows\n",
      "\n"
     ]
    }
   ],
   "source": [
    "tips.where(tips.tip_perc > .2).show(10)"
   ]
  },
  {
   "cell_type": "code",
   "execution_count": 32,
   "id": "67e7cd6e-7854-484d-ae4a-9d405c042cf3",
   "metadata": {},
   "outputs": [
    {
     "name": "stdout",
     "output_type": "stream",
     "text": [
      "+----------+----+------+------+---+------+----+-------------------+\n",
      "|total_bill| tip|   sex|smoker|day|  time|size|           tip_perc|\n",
      "+----------+----+------+------+---+------+----+-------------------+\n",
      "|      8.77| 2.0|  Male|    No|Sun|Dinner|   2|0.22805017103762829|\n",
      "|     14.78|3.23|  Male|    No|Sun|Dinner|   2| 0.2185385656292287|\n",
      "|     14.83|3.02|Female|    No|Sun|Dinner|   2|0.20364126770060686|\n",
      "|     16.29|3.71|  Male|    No|Sun|Dinner|   3|0.22774708410067526|\n",
      "|     16.97| 3.5|Female|    No|Sun|Dinner|   3|0.20624631703005306|\n",
      "|     17.92|4.08|  Male|    No|Sat|Dinner|   2|0.22767857142857142|\n",
      "|     13.94|3.06|  Male|    No|Sun|Dinner|   2|0.21951219512195122|\n",
      "|     22.23| 5.0|  Male|    No|Sun|Dinner|   2|0.22492127755285649|\n",
      "|     10.29| 2.6|Female|    No|Sun|Dinner|   2| 0.2526724975704568|\n",
      "|     18.29|3.76|  Male|   Yes|Sat|Dinner|   4|0.20557681793329688|\n",
      "+----------+----+------+------+---+------+----+-------------------+\n",
      "only showing top 10 rows\n",
      "\n"
     ]
    }
   ],
   "source": [
    "tips.filter(tips.tip_perc > .2).show(10)"
   ]
  },
  {
   "cell_type": "code",
   "execution_count": 33,
   "id": "119f5f15-eddc-45de-b3e8-494533dccdd7",
   "metadata": {},
   "outputs": [
    {
     "name": "stdout",
     "output_type": "stream",
     "text": [
      "+----------+----+------+------+----+------+----+-------------------+\n",
      "|total_bill| tip|   sex|smoker| day|  time|size|           tip_perc|\n",
      "+----------+----+------+------+----+------+----+-------------------+\n",
      "|      7.25| 1.0|Female|    No| Sat|Dinner|   1|0.13793103448275862|\n",
      "|      3.07| 1.0|Female|   Yes| Sat|Dinner|   1|0.32573289902280134|\n",
      "|     10.07|1.83|Female|    No|Thur| Lunch|   1| 0.1817279046673287|\n",
      "|      8.58|1.92|  Male|   Yes| Fri| Lunch|   1|0.22377622377622378|\n",
      "|     19.81|4.19|Female|   Yes|Thur| Lunch|   2|0.21150933871781932|\n",
      "|     12.76|2.23|Female|   Yes| Sat|Dinner|   2|0.17476489028213166|\n",
      "|     15.69| 1.5|  Male|   Yes| Sun|Dinner|   2|0.09560229445506692|\n",
      "|      7.56|1.44|  Male|    No|Thur| Lunch|   2|0.19047619047619047|\n",
      "|     13.81| 2.0|  Male|   Yes| Sat|Dinner|   2| 0.1448225923244026|\n",
      "|     15.48|2.02|  Male|   Yes|Thur| Lunch|   2|0.13049095607235142|\n",
      "|     16.58| 4.0|  Male|   Yes|Thur| Lunch|   2|0.24125452352231608|\n",
      "|     23.33|5.65|  Male|   Yes| Sun|Dinner|   2| 0.2421774539219889|\n",
      "|     20.29|3.21|  Male|   Yes| Sat|Dinner|   2| 0.1582060128141942|\n",
      "|     13.51| 2.0|  Male|   Yes|Thur| Lunch|   2|0.14803849000740193|\n",
      "|     12.74|2.01|Female|   Yes|Thur| Lunch|   2|0.15777080062794346|\n",
      "|      13.0| 2.0|Female|   Yes|Thur| Lunch|   2|0.15384615384615385|\n",
      "|      16.4| 2.5|Female|   Yes|Thur| Lunch|   2|0.15243902439024393|\n",
      "|     24.27|2.03|  Male|   Yes| Sat|Dinner|   2|0.08364235681911825|\n",
      "|     10.34| 2.0|  Male|   Yes|Thur| Lunch|   2|0.19342359767891684|\n",
      "|     40.55| 3.0|  Male|   Yes| Sun|Dinner|   2|0.07398273736128237|\n",
      "+----------+----+------+------+----+------+----+-------------------+\n",
      "only showing top 20 rows\n",
      "\n"
     ]
    }
   ],
   "source": [
    "tips.sort(tips.size).show()"
   ]
  },
  {
   "cell_type": "code",
   "execution_count": 34,
   "id": "6e32a8d5-b407-4b01-b0c0-b4bdd8ddaf22",
   "metadata": {},
   "outputs": [
    {
     "name": "stdout",
     "output_type": "stream",
     "text": [
      "+----------+----+------+------+----+------+----+-------------------+\n",
      "|total_bill| tip|   sex|smoker| day|  time|size|           tip_perc|\n",
      "+----------+----+------+------+----+------+----+-------------------+\n",
      "|      3.07| 1.0|Female|   Yes| Sat|Dinner|   1|0.32573289902280134|\n",
      "|     10.07|1.83|Female|    No|Thur| Lunch|   1| 0.1817279046673287|\n",
      "|      7.25| 1.0|Female|    No| Sat|Dinner|   1|0.13793103448275862|\n",
      "|      8.58|1.92|  Male|   Yes| Fri| Lunch|   1|0.22377622377622378|\n",
      "|     13.81| 2.0|  Male|   Yes| Sat|Dinner|   2| 0.1448225923244026|\n",
      "|     15.01|2.09|  Male|   Yes| Sat|Dinner|   2|0.13924050632911392|\n",
      "|     16.45|2.47|Female|    No| Sat|Dinner|   2| 0.1501519756838906|\n",
      "|     17.29|2.71|  Male|    No|Thur| Lunch|   2|  0.156737998843262|\n",
      "|     11.02|1.98|  Male|   Yes| Sat|Dinner|   2|0.17967332123411978|\n",
      "|     14.73| 2.2|Female|    No| Sat|Dinner|   2|0.14935505770536323|\n",
      "|     20.23|2.01|  Male|    No| Sat|Dinner|   2|0.09935739001482945|\n",
      "|     19.44| 3.0|  Male|   Yes|Thur| Lunch|   2|0.15432098765432098|\n",
      "|     12.02|1.97|  Male|    No| Sat|Dinner|   2| 0.1638935108153078|\n",
      "|     26.86|3.14|Female|   Yes| Sat|Dinner|   2|0.11690245718540582|\n",
      "|     25.28| 5.0|Female|   Yes| Sat|Dinner|   2|0.19778481012658228|\n",
      "|     10.51|1.25|  Male|    No| Sat|Dinner|   2|0.11893434823977164|\n",
      "|     17.92|3.08|  Male|   Yes| Sat|Dinner|   2|           0.171875|\n",
      "|     22.76| 3.0|  Male|    No|Thur| Lunch|   2|0.13181019332161686|\n",
      "|     16.66| 3.4|  Male|    No|Thur| Lunch|   2|0.20408163265306123|\n",
      "|     32.68| 5.0|  Male|   Yes|Thur| Lunch|   2|0.15299877600979192|\n",
      "+----------+----+------+------+----+------+----+-------------------+\n",
      "only showing top 20 rows\n",
      "\n"
     ]
    }
   ],
   "source": [
    "tips.orderBy(tips.size).show()"
   ]
  },
  {
   "cell_type": "markdown",
   "id": "74da023d-54f1-4f08-afcf-d5f12c7d8bb9",
   "metadata": {},
   "source": [
    "Filtering and Sorting:\n",
    "\n",
    "- `.filter` or `.where` to filter rows based on a condition\n",
    "- `.sort` or `.orderBy` to sort the data"
   ]
  },
  {
   "cell_type": "code",
   "execution_count": 35,
   "id": "f215cbd9-88fe-46f6-8509-32a2ac11f28e",
   "metadata": {},
   "outputs": [
    {
     "name": "stdout",
     "output_type": "stream",
     "text": [
      "+----------+---+------+------+----+------+----+-------------------+\n",
      "|total_bill|tip|   sex|smoker| day|  time|size|           tip_perc|\n",
      "+----------+---+------+------+----+------+----+-------------------+\n",
      "|     27.05|5.0|Female|    No|Thur| Lunch|   6|0.18484288354898337|\n",
      "|      34.3|6.7|  Male|    No|Thur| Lunch|   6|0.19533527696793004|\n",
      "|      29.8|4.2|Female|    No|Thur| Lunch|   6|0.14093959731543623|\n",
      "|     48.17|5.0|  Male|    No| Sun|Dinner|   6|0.10379904504878555|\n",
      "|     41.19|5.0|  Male|    No|Thur| Lunch|   5|0.12138868657441128|\n",
      "+----------+---+------+------+----+------+----+-------------------+\n",
      "only showing top 5 rows\n",
      "\n"
     ]
    }
   ],
   "source": [
    "tips.orderBy(tips.size.desc()).show(5)"
   ]
  },
  {
   "cell_type": "code",
   "execution_count": 36,
   "id": "e89166c4-ebb8-4b18-8ba6-8bd8d6b9afa1",
   "metadata": {},
   "outputs": [],
   "source": [
    "from pyspark.sql.functions import asc, desc"
   ]
  },
  {
   "cell_type": "code",
   "execution_count": 37,
   "id": "909a7ece-f2e4-4878-a5d2-ce67e3f1d930",
   "metadata": {},
   "outputs": [
    {
     "name": "stdout",
     "output_type": "stream",
     "text": [
      "+----------+----+------+------+----+------+----+-------------------+\n",
      "|total_bill| tip|   sex|smoker| day|  time|size|           tip_perc|\n",
      "+----------+----+------+------+----+------+----+-------------------+\n",
      "|     27.05| 5.0|Female|    No|Thur| Lunch|   6|0.18484288354898337|\n",
      "|      29.8| 4.2|Female|    No|Thur| Lunch|   6|0.14093959731543623|\n",
      "|      34.3| 6.7|  Male|    No|Thur| Lunch|   6|0.19533527696793004|\n",
      "|     48.17| 5.0|  Male|    No| Sun|Dinner|   6|0.10379904504878555|\n",
      "|     20.69| 5.0|  Male|    No| Sun|Dinner|   5| 0.2416626389560174|\n",
      "|     28.15| 3.0|  Male|   Yes| Sat|Dinner|   5|0.10657193605683837|\n",
      "|     29.85|5.14|Female|    No| Sun|Dinner|   5| 0.1721943048576214|\n",
      "|     30.46| 2.0|  Male|   Yes| Sun|Dinner|   5|0.06565988181221273|\n",
      "|     41.19| 5.0|  Male|    No|Thur| Lunch|   5|0.12138868657441128|\n",
      "|     16.49| 2.0|  Male|    No| Sun|Dinner|   4|0.12128562765312312|\n",
      "|     17.81|2.34|  Male|    No| Sat|Dinner|   4|0.13138686131386862|\n",
      "|     18.29|3.76|  Male|   Yes| Sat|Dinner|   4|0.20557681793329688|\n",
      "|     18.35| 2.5|  Male|    No| Sat|Dinner|   4|0.13623978201634876|\n",
      "|     18.43| 3.0|  Male|    No| Sun|Dinner|   4|0.16277807921866522|\n",
      "|     19.77| 2.0|  Male|    No| Sun|Dinner|   4|0.10116337885685382|\n",
      "|     20.45| 3.0|  Male|    No| Sat|Dinner|   4| 0.1466992665036675|\n",
      "|     20.53| 4.0|  Male|   Yes|Thur| Lunch|   4| 0.1948368241597662|\n",
      "|     20.69|2.45|Female|    No| Sat|Dinner|   4|0.11841469308844853|\n",
      "|      21.5| 3.5|  Male|    No| Sun|Dinner|   4|0.16279069767441862|\n",
      "|     23.17| 6.5|  Male|   Yes| Sun|Dinner|   4| 0.2805351747949935|\n",
      "+----------+----+------+------+----+------+----+-------------------+\n",
      "only showing top 20 rows\n",
      "\n"
     ]
    }
   ],
   "source": [
    "tips.orderBy(desc('size'), asc('total_bill')).show()"
   ]
  },
  {
   "cell_type": "markdown",
   "id": "61f0cccf-7b48-4810-8868-677c6096c67e",
   "metadata": {},
   "source": [
    "## Part 2: Aggregating and More Examples"
   ]
  },
  {
   "cell_type": "code",
   "execution_count": 40,
   "id": "919055e8-c6c9-4c39-bbc5-98ae5d614714",
   "metadata": {},
   "outputs": [
    {
     "name": "stdout",
     "output_type": "stream",
     "text": [
      "+----------+----+------+------+---+------+----+-------------------+\n",
      "|total_bill| tip|   sex|smoker|day|  time|size|           tip_perc|\n",
      "+----------+----+------+------+---+------+----+-------------------+\n",
      "|     16.99|1.01|Female|    No|Sun|Dinner|   2|0.05944673337257211|\n",
      "|     10.34|1.66|  Male|    No|Sun|Dinner|   3|0.16054158607350097|\n",
      "|     21.01| 3.5|  Male|    No|Sun|Dinner|   3|0.16658733936220846|\n",
      "|     23.68|3.31|  Male|    No|Sun|Dinner|   2| 0.1397804054054054|\n",
      "|     24.59|3.61|Female|    No|Sun|Dinner|   4|0.14680764538430255|\n",
      "+----------+----+------+------+---+------+----+-------------------+\n",
      "only showing top 5 rows\n",
      "\n"
     ]
    }
   ],
   "source": [
    "tips.show(5)"
   ]
  },
  {
   "cell_type": "code",
   "execution_count": 42,
   "id": "7b9a3efc-f9a3-422e-b33e-011a1eb94281",
   "metadata": {},
   "outputs": [
    {
     "name": "stdout",
     "output_type": "stream",
     "text": [
      "+------+------------------+\n",
      "|  time|   avg(total_bill)|\n",
      "+------+------------------+\n",
      "|Dinner| 20.79715909090909|\n",
      "| Lunch|17.168676470588235|\n",
      "+------+------------------+\n",
      "\n"
     ]
    }
   ],
   "source": [
    "tips.groupBy('time').agg(mean('total_bill')).show()"
   ]
  },
  {
   "cell_type": "code",
   "execution_count": 45,
   "id": "dfe05fdf-adeb-4f61-abc2-03840820d487",
   "metadata": {},
   "outputs": [
    {
     "name": "stdout",
     "output_type": "stream",
     "text": [
      "+------+----+------------------+\n",
      "|  time| day|   avg(total_bill)|\n",
      "+------+----+------------------+\n",
      "|Dinner| Fri| 19.66333333333333|\n",
      "|Dinner| Sat|20.441379310344825|\n",
      "|Dinner| Sun|21.409999999999997|\n",
      "|Dinner|Thur|             18.78|\n",
      "| Lunch| Fri|12.845714285714285|\n",
      "| Lunch|Thur|17.664754098360653|\n",
      "+------+----+------------------+\n",
      "\n"
     ]
    }
   ],
   "source": [
    "tips.groupBy('time', 'day').agg(mean('total_bill')).sort('time', 'day').show()"
   ]
  },
  {
   "cell_type": "code",
   "execution_count": 47,
   "id": "0cbc338e-54d8-4558-a839-19d48b4584ac",
   "metadata": {},
   "outputs": [],
   "source": [
    "from pyspark.sql.functions import min, max"
   ]
  },
  {
   "cell_type": "code",
   "execution_count": 49,
   "id": "4bc0a0ad-6116-4260-a47e-125e4faf8a94",
   "metadata": {},
   "outputs": [
    {
     "name": "stdout",
     "output_type": "stream",
     "text": [
      "+------+----+------------------+------------+-----------+\n",
      "|  time| day|          avg_bill|smallest_tip|largest_tip|\n",
      "+------+----+------------------+------------+-----------+\n",
      "|Dinner| Sun|21.409999999999997|        1.01|        6.5|\n",
      "|Dinner| Sat|20.441379310344825|         1.0|       10.0|\n",
      "| Lunch|Thur|17.664754098360653|        1.25|        6.7|\n",
      "|Dinner| Fri| 19.66333333333333|         1.0|       4.73|\n",
      "|Dinner|Thur|             18.78|         3.0|        3.0|\n",
      "| Lunch| Fri|12.845714285714285|        1.58|       3.48|\n",
      "+------+----+------------------+------------+-----------+\n",
      "\n"
     ]
    }
   ],
   "source": [
    "tips.groupBy('time', 'day').agg(\n",
    "    mean('total_bill').alias('avg_bill'),\n",
    "    min('tip').alias('smallest_tip'),\n",
    "    max('tip').alias('largest_tip')\n",
    ").show()"
   ]
  },
  {
   "cell_type": "code",
   "execution_count": 50,
   "id": "4f5346dd-b19c-4dfc-b21e-1957762fd1fe",
   "metadata": {},
   "outputs": [
    {
     "name": "stdout",
     "output_type": "stream",
     "text": [
      "+------+------------------+------------------+------------------+------------------+\n",
      "|  time|               Fri|               Sat|               Sun|              Thur|\n",
      "+------+------------------+------------------+------------------+------------------+\n",
      "| Lunch|12.845714285714285|              null|              null|17.664754098360653|\n",
      "|Dinner| 19.66333333333333|20.441379310344825|21.409999999999997|             18.78|\n",
      "+------+------------------+------------------+------------------+------------------+\n",
      "\n"
     ]
    }
   ],
   "source": [
    "tips.groupby('time').pivot('day').agg(mean('total_bill')).show()"
   ]
  },
  {
   "cell_type": "code",
   "execution_count": 51,
   "id": "b0feee26-d356-49ad-b993-69f0fab5da4c",
   "metadata": {},
   "outputs": [
    {
     "name": "stdout",
     "output_type": "stream",
     "text": [
      "+--------+------+-----+\n",
      "|day_time|Dinner|Lunch|\n",
      "+--------+------+-----+\n",
      "|     Sat|    87|    0|\n",
      "|     Sun|    76|    0|\n",
      "|    Thur|     1|   61|\n",
      "|     Fri|    12|    7|\n",
      "+--------+------+-----+\n",
      "\n"
     ]
    }
   ],
   "source": [
    "tips.crosstab('day', 'time').show()"
   ]
  },
  {
   "cell_type": "markdown",
   "id": "897c718a-3e85-41ea-8531-cdeb7f06cf67",
   "metadata": {},
   "source": [
    "## Spark Miscellania"
   ]
  },
  {
   "cell_type": "code",
   "execution_count": 52,
   "id": "cd31d8e6-c5fd-4eb2-ab15-e14191d83dac",
   "metadata": {},
   "outputs": [],
   "source": [
    "tips.createOrReplaceTempView('tips')"
   ]
  },
  {
   "cell_type": "code",
   "execution_count": 55,
   "id": "2b4683d6-1002-49cc-abdd-f6328288fc06",
   "metadata": {},
   "outputs": [
    {
     "name": "stdout",
     "output_type": "stream",
     "text": [
      "+----------+----+------+------+---+------+----+-------------------+\n",
      "|total_bill| tip|   sex|smoker|day|  time|size|           tip_perc|\n",
      "+----------+----+------+------+---+------+----+-------------------+\n",
      "|     16.99|1.01|Female|    No|Sun|Dinner|   2|0.05944673337257211|\n",
      "|     10.34|1.66|  Male|    No|Sun|Dinner|   3|0.16054158607350097|\n",
      "|     21.01| 3.5|  Male|    No|Sun|Dinner|   3|0.16658733936220846|\n",
      "|     23.68|3.31|  Male|    No|Sun|Dinner|   2| 0.1397804054054054|\n",
      "|     24.59|3.61|Female|    No|Sun|Dinner|   4|0.14680764538430255|\n",
      "+----------+----+------+------+---+------+----+-------------------+\n",
      "only showing top 5 rows\n",
      "\n"
     ]
    }
   ],
   "source": [
    "spark.sql('select * from tips').show(5)"
   ]
  },
  {
   "cell_type": "code",
   "execution_count": 57,
   "id": "a9ece1de-8c30-4b20-9d19-4919cf163b0b",
   "metadata": {},
   "outputs": [
    {
     "name": "stdout",
     "output_type": "stream",
     "text": [
      "+------+----+------------------+------------+-----------+\n",
      "|  time| day|          avg_bill|smallest_tip|biggest_tip|\n",
      "+------+----+------------------+------------+-----------+\n",
      "|Dinner| Sun|21.409999999999997|        1.01|        6.5|\n",
      "|Dinner| Sat|20.441379310344825|         1.0|       10.0|\n",
      "| Lunch|Thur|17.664754098360653|        1.25|        6.7|\n",
      "|Dinner| Fri| 19.66333333333333|         1.0|       4.73|\n",
      "|Dinner|Thur|             18.78|         3.0|        3.0|\n",
      "| Lunch| Fri|12.845714285714285|        1.58|       3.48|\n",
      "+------+----+------------------+------------+-----------+\n",
      "\n"
     ]
    }
   ],
   "source": [
    "spark.sql('''\n",
    "SELECT\n",
    "    time,\n",
    "    day,\n",
    "    mean(total_bill) AS avg_bill,\n",
    "    min(tip) AS smallest_tip,\n",
    "    max(tip) AS biggest_tip\n",
    "FROM tips\n",
    "GROUP BY time, day\n",
    "''').show()"
   ]
  },
  {
   "cell_type": "code",
   "execution_count": 58,
   "id": "c6cbb646-9e9d-4768-ad13-c8609b6e516d",
   "metadata": {},
   "outputs": [],
   "source": [
    "from pyspark.sql.functions import expr"
   ]
  },
  {
   "cell_type": "code",
   "execution_count": 60,
   "id": "7f3595b4-1230-421f-9c14-753b3d5b7951",
   "metadata": {},
   "outputs": [
    {
     "name": "stdout",
     "output_type": "stream",
     "text": [
      "+----------+----+------+------+---+------+----+-------------------+------------------+\n",
      "|total_bill| tip|   sex|smoker|day|  time|size|           tip_perc|  price_per_person|\n",
      "+----------+----+------+------+---+------+----+-------------------+------------------+\n",
      "|     16.99|1.01|Female|    No|Sun|Dinner|   2|0.05944673337257211|             8.495|\n",
      "|     10.34|1.66|  Male|    No|Sun|Dinner|   3|0.16054158607350097|3.4466666666666668|\n",
      "|     21.01| 3.5|  Male|    No|Sun|Dinner|   3|0.16658733936220846| 7.003333333333334|\n",
      "|     23.68|3.31|  Male|    No|Sun|Dinner|   2| 0.1397804054054054|             11.84|\n",
      "|     24.59|3.61|Female|    No|Sun|Dinner|   4|0.14680764538430255|            6.1475|\n",
      "|     25.29|4.71|  Male|    No|Sun|Dinner|   4|0.18623962040332148|            6.3225|\n",
      "|      8.77| 2.0|  Male|    No|Sun|Dinner|   2|0.22805017103762829|             4.385|\n",
      "|     26.88|3.12|  Male|    No|Sun|Dinner|   4|0.11607142857142858|              6.72|\n",
      "|     15.04|1.96|  Male|    No|Sun|Dinner|   2|0.13031914893617022|              7.52|\n",
      "|     14.78|3.23|  Male|    No|Sun|Dinner|   2| 0.2185385656292287|              7.39|\n",
      "|     10.27|1.71|  Male|    No|Sun|Dinner|   2| 0.1665043816942551|             5.135|\n",
      "|     35.26| 5.0|Female|    No|Sun|Dinner|   4|0.14180374361883155|             8.815|\n",
      "|     15.42|1.57|  Male|    No|Sun|Dinner|   2|0.10181582360570687|              7.71|\n",
      "|     18.43| 3.0|  Male|    No|Sun|Dinner|   4|0.16277807921866522|            4.6075|\n",
      "|     14.83|3.02|Female|    No|Sun|Dinner|   2|0.20364126770060686|             7.415|\n",
      "|     21.58|3.92|  Male|    No|Sun|Dinner|   2|0.18164967562557924|             10.79|\n",
      "|     10.33|1.67|Female|    No|Sun|Dinner|   3| 0.1616650532429816|3.4433333333333334|\n",
      "|     16.29|3.71|  Male|    No|Sun|Dinner|   3|0.22774708410067526|              5.43|\n",
      "|     16.97| 3.5|Female|    No|Sun|Dinner|   3|0.20624631703005306| 5.656666666666666|\n",
      "|     20.65|3.35|  Male|    No|Sat|Dinner|   3|0.16222760290556903| 6.883333333333333|\n",
      "+----------+----+------+------+---+------+----+-------------------+------------------+\n",
      "only showing top 20 rows\n",
      "\n"
     ]
    }
   ],
   "source": [
    "tips.select('*', expr('total_bill / size AS price_per_person')).show()"
   ]
  },
  {
   "cell_type": "code",
   "execution_count": 61,
   "id": "d8ff43d7-da02-4a4a-9a1c-00d72d5ab625",
   "metadata": {},
   "outputs": [
    {
     "name": "stdout",
     "output_type": "stream",
     "text": [
      "+------+------------+\n",
      "|smoker|biggest_bill|\n",
      "+------+------------+\n",
      "|    No|       48.33|\n",
      "|   Yes|       50.81|\n",
      "+------+------------+\n",
      "\n"
     ]
    }
   ],
   "source": [
    "tips.groupBy('smoker').agg(expr('MAX(total_bill) AS biggest_bill')).show()"
   ]
  },
  {
   "cell_type": "code",
   "execution_count": 63,
   "id": "d98f55cf-e58a-44a8-9bf4-4715dbff39dd",
   "metadata": {},
   "outputs": [],
   "source": [
    "mpg = spark.createDataFrame(pydataset.data('mpg'))"
   ]
  },
  {
   "cell_type": "code",
   "execution_count": 64,
   "id": "c70ab9c1-71a2-4ed0-8153-52e615167011",
   "metadata": {},
   "outputs": [
    {
     "name": "stdout",
     "output_type": "stream",
     "text": [
      "== Physical Plan ==\n",
      "*(1) Scan ExistingRDD[manufacturer#1092,model#1093,displ#1094,year#1095L,cyl#1096L,trans#1097,drv#1098,cty#1099L,hwy#1100L,fl#1101,class#1102]\n",
      "\n",
      "\n"
     ]
    }
   ],
   "source": [
    "mpg.explain()"
   ]
  },
  {
   "cell_type": "code",
   "execution_count": 66,
   "id": "64aa27ce-cd2d-47f9-89e6-5309f13105df",
   "metadata": {},
   "outputs": [
    {
     "name": "stdout",
     "output_type": "stream",
     "text": [
      "== Physical Plan ==\n",
      "*(1) Project [hwy#1100L AS highway_mileage#1116L]\n",
      "+- *(1) Scan ExistingRDD[manufacturer#1092,model#1093,displ#1094,year#1095L,cyl#1096L,trans#1097,drv#1098,cty#1099L,hwy#1100L,fl#1101,class#1102]\n",
      "\n",
      "\n"
     ]
    }
   ],
   "source": [
    "mpg.select(mpg.hwy.alias('highway_mileage')).explain()"
   ]
  },
  {
   "cell_type": "code",
   "execution_count": 68,
   "id": "09aade38-7fc1-4063-94da-17f109c5b136",
   "metadata": {},
   "outputs": [
    {
     "name": "stdout",
     "output_type": "stream",
     "text": [
      "== Physical Plan ==\n",
      "*(1) Project [hwy#1100L AS highway_mileage#1120L]\n",
      "+- *(1) Filter (isnotnull(cyl#1096L) AND (cyl#1096L = 4))\n",
      "   +- *(1) Scan ExistingRDD[manufacturer#1092,model#1093,displ#1094,year#1095L,cyl#1096L,trans#1097,drv#1098,cty#1099L,hwy#1100L,fl#1101,class#1102]\n",
      "\n",
      "\n"
     ]
    }
   ],
   "source": [
    "mpg.filter(mpg.cyl == 4).select(mpg.hwy.alias('highway_mileage')).explain()"
   ]
  },
  {
   "cell_type": "code",
   "execution_count": 69,
   "id": "73dec38b-a6ce-4611-a130-8fbbfdcf2e52",
   "metadata": {},
   "outputs": [
    {
     "name": "stdout",
     "output_type": "stream",
     "text": [
      "== Physical Plan ==\n",
      "*(1) Project [cyl#1096L, hwy#1100L AS highway_mileage#1122L]\n",
      "+- *(1) Filter (isnotnull(cyl#1096L) AND (cyl#1096L = 4))\n",
      "   +- *(1) Scan ExistingRDD[manufacturer#1092,model#1093,displ#1094,year#1095L,cyl#1096L,trans#1097,drv#1098,cty#1099L,hwy#1100L,fl#1101,class#1102]\n",
      "\n",
      "\n"
     ]
    }
   ],
   "source": [
    "mpg.select('cyl', mpg.hwy.alias('highway_mileage')).filter(mpg.cyl == 4).explain()"
   ]
  },
  {
   "cell_type": "markdown",
   "id": "9240f13d-097e-42e2-87a9-139dee5757e9",
   "metadata": {},
   "source": [
    "## More Examples"
   ]
  },
  {
   "cell_type": "code",
   "execution_count": 70,
   "id": "23e333b3-b89c-42d3-be05-9cce4be109ad",
   "metadata": {},
   "outputs": [
    {
     "name": "stdout",
     "output_type": "stream",
     "text": [
      "+----------+-------------+--------+--------+----+-------+\n",
      "|      date|precipitation|temp_max|temp_min|wind|weather|\n",
      "+----------+-------------+--------+--------+----+-------+\n",
      "|2012-01-01|          0.0|    12.8|     5.0| 4.7|drizzle|\n",
      "|2012-01-02|         10.9|    10.6|     2.8| 4.5|   rain|\n",
      "|2012-01-03|          0.8|    11.7|     7.2| 2.3|   rain|\n",
      "|2012-01-04|         20.3|    12.2|     5.6| 4.7|   rain|\n",
      "|2012-01-05|          1.3|     8.9|     2.8| 6.1|   rain|\n",
      "|2012-01-06|          2.5|     4.4|     2.2| 2.2|   rain|\n",
      "+----------+-------------+--------+--------+----+-------+\n",
      "only showing top 6 rows\n",
      "\n"
     ]
    }
   ],
   "source": [
    "from vega_datasets import data\n",
    "\n",
    "weather = data.seattle_weather().assign(date=lambda df: df.date.astype(str))\n",
    "weather = spark.createDataFrame(weather)\n",
    "weather.show(6)"
   ]
  },
  {
   "cell_type": "code",
   "execution_count": 79,
   "id": "1d297d26-9330-4925-acf6-69891b3ac975",
   "metadata": {},
   "outputs": [
    {
     "data": {
      "text/plain": [
       "DataFrame[date: string, precipitation: double, temp_max: double, temp_min: double, wind: double, weather: string]"
      ]
     },
     "execution_count": 79,
     "metadata": {},
     "output_type": "execute_result"
    }
   ],
   "source": [
    "weather"
   ]
  },
  {
   "cell_type": "code",
   "execution_count": 76,
   "id": "530c38d7-8762-4153-b8c6-b0f29596e225",
   "metadata": {},
   "outputs": [
    {
     "name": "stdout",
     "output_type": "stream",
     "text": [
      "+----------+-------------+--------+--------+----+-------+--------+\n",
      "|      date|precipitation|temp_max|temp_min|wind|weather|did_rain|\n",
      "+----------+-------------+--------+--------+----+-------+--------+\n",
      "|2012-01-01|          0.0|    12.8|     5.0| 4.7|drizzle|   false|\n",
      "|2012-01-02|         10.9|    10.6|     2.8| 4.5|   rain|    true|\n",
      "|2012-01-03|          0.8|    11.7|     7.2| 2.3|   rain|    true|\n",
      "|2012-01-04|         20.3|    12.2|     5.6| 4.7|   rain|    true|\n",
      "|2012-01-05|          1.3|     8.9|     2.8| 6.1|   rain|    true|\n",
      "+----------+-------------+--------+--------+----+-------+--------+\n",
      "only showing top 5 rows\n",
      "\n"
     ]
    }
   ],
   "source": [
    "weather.withColumn('did_rain', weather.precipitation > 0).show(5)"
   ]
  },
  {
   "cell_type": "code",
   "execution_count": 80,
   "id": "6f87ce8c-453f-4bc2-ac48-3dd9e8a6feb6",
   "metadata": {},
   "outputs": [
    {
     "name": "stdout",
     "output_type": "stream",
     "text": [
      "+----+-------+------------------+\n",
      "|year|quarter|    total_rainfall|\n",
      "+----+-------+------------------+\n",
      "|2012|      3|27.200000000000003|\n",
      "|2015|      2| 72.29999999999997|\n",
      "|2015|      3|106.69999999999999|\n",
      "|2014|      3|122.29999999999998|\n",
      "|2013|      4|             177.9|\n",
      "|2013|      3|             191.2|\n",
      "|2012|      2|195.39999999999998|\n",
      "|2014|      2|204.90000000000006|\n",
      "|2013|      1|215.70000000000005|\n",
      "|2013|      2|243.20000000000005|\n",
      "|2015|      1|340.70000000000016|\n",
      "|2014|      4|416.40000000000015|\n",
      "|2012|      1| 448.6000000000001|\n",
      "|2014|      1| 489.2000000000001|\n",
      "|2012|      4| 554.8000000000001|\n",
      "|2015|      4| 619.4999999999999|\n",
      "+----+-------+------------------+\n",
      "\n"
     ]
    }
   ],
   "source": [
    "from pyspark.sql.functions import month, year, quarter\n",
    "\n",
    "(\n",
    "    weather.withColumn(\"year\", year(\"date\"))\n",
    "    .withColumn(\"quarter\", quarter(\"date\"))\n",
    "    .groupBy('year', 'quarter')\n",
    "    .agg(sum(\"precipitation\").alias(\"total_rainfall\"))\n",
    "    .sort(\"total_rainfall\")\n",
    "    .show()\n",
    ")"
   ]
  },
  {
   "cell_type": "markdown",
   "id": "0b4a56b4-8b97-41a7-a492-ed640f2c5721",
   "metadata": {},
   "source": [
    "Number of days with freezing temperatures for each month in 2013"
   ]
  },
  {
   "cell_type": "code",
   "execution_count": 81,
   "id": "50654e6e-de08-4644-8cc6-6698223258fa",
   "metadata": {},
   "outputs": [
    {
     "name": "stdout",
     "output_type": "stream",
     "text": [
      "+----------+-------------+--------+--------+----+-------+\n",
      "|      date|precipitation|temp_max|temp_min|wind|weather|\n",
      "+----------+-------------+--------+--------+----+-------+\n",
      "|2012-01-01|          0.0|    12.8|     5.0| 4.7|drizzle|\n",
      "|2012-01-02|         10.9|    10.6|     2.8| 4.5|   rain|\n",
      "|2012-01-03|          0.8|    11.7|     7.2| 2.3|   rain|\n",
      "|2012-01-04|         20.3|    12.2|     5.6| 4.7|   rain|\n",
      "|2012-01-05|          1.3|     8.9|     2.8| 6.1|   rain|\n",
      "+----------+-------------+--------+--------+----+-------+\n",
      "only showing top 5 rows\n",
      "\n"
     ]
    }
   ],
   "source": [
    "weather.show(5)"
   ]
  },
  {
   "cell_type": "code",
   "execution_count": 84,
   "id": "8d457e1b-14d6-4376-80e8-b9739d136126",
   "metadata": {},
   "outputs": [],
   "source": [
    "from pyspark.sql.functions import col"
   ]
  },
  {
   "cell_type": "code",
   "execution_count": 86,
   "id": "54397f59-607c-463a-a89a-64d0310848dc",
   "metadata": {},
   "outputs": [
    {
     "data": {
      "text/plain": [
       "Column<'temp_min'>"
      ]
     },
     "execution_count": 86,
     "metadata": {},
     "output_type": "execute_result"
    }
   ],
   "source": [
    "weather.temp_min"
   ]
  },
  {
   "cell_type": "code",
   "execution_count": 87,
   "id": "60e6e0ac-46d7-426d-b5dc-97331e1e93f9",
   "metadata": {},
   "outputs": [
    {
     "data": {
      "text/plain": [
       "Column<'temp_min'>"
      ]
     },
     "execution_count": 87,
     "metadata": {},
     "output_type": "execute_result"
    }
   ],
   "source": [
    "col('temp_min')"
   ]
  },
  {
   "cell_type": "code",
   "execution_count": 89,
   "id": "590a7931-e970-48a7-8fe6-af113310f5f3",
   "metadata": {},
   "outputs": [
    {
     "data": {
      "text/plain": [
       "Column<'abcd'>"
      ]
     },
     "execution_count": 89,
     "metadata": {},
     "output_type": "execute_result"
    }
   ],
   "source": [
    "col('abcd')"
   ]
  },
  {
   "cell_type": "code",
   "execution_count": 88,
   "id": "f04b47e7-9a84-4b16-b6db-00029dcad90c",
   "metadata": {},
   "outputs": [
    {
     "ename": "AttributeError",
     "evalue": "'DataFrame' object has no attribute 'abcd'",
     "output_type": "error",
     "traceback": [
      "\u001b[0;31m---------------------------------------------------------------------------\u001b[0m",
      "\u001b[0;31mAttributeError\u001b[0m                            Traceback (most recent call last)",
      "\u001b[0;32m<ipython-input-88-0905c47a9416>\u001b[0m in \u001b[0;36m<module>\u001b[0;34m\u001b[0m\n\u001b[0;32m----> 1\u001b[0;31m \u001b[0mweather\u001b[0m\u001b[0;34m.\u001b[0m\u001b[0mabcd\u001b[0m\u001b[0;34m\u001b[0m\u001b[0;34m\u001b[0m\u001b[0m\n\u001b[0m",
      "\u001b[0;32m/opt/homebrew/anaconda3/lib/python3.8/site-packages/pyspark/sql/dataframe.py\u001b[0m in \u001b[0;36m__getattr__\u001b[0;34m(self, name)\u001b[0m\n\u001b[1;32m   1657\u001b[0m         \"\"\"\n\u001b[1;32m   1658\u001b[0m         \u001b[0;32mif\u001b[0m \u001b[0mname\u001b[0m \u001b[0;32mnot\u001b[0m \u001b[0;32min\u001b[0m \u001b[0mself\u001b[0m\u001b[0;34m.\u001b[0m\u001b[0mcolumns\u001b[0m\u001b[0;34m:\u001b[0m\u001b[0;34m\u001b[0m\u001b[0;34m\u001b[0m\u001b[0m\n\u001b[0;32m-> 1659\u001b[0;31m             raise AttributeError(\n\u001b[0m\u001b[1;32m   1660\u001b[0m                 \"'%s' object has no attribute '%s'\" % (self.__class__.__name__, name))\n\u001b[1;32m   1661\u001b[0m         \u001b[0mjc\u001b[0m \u001b[0;34m=\u001b[0m \u001b[0mself\u001b[0m\u001b[0;34m.\u001b[0m\u001b[0m_jdf\u001b[0m\u001b[0;34m.\u001b[0m\u001b[0mapply\u001b[0m\u001b[0;34m(\u001b[0m\u001b[0mname\u001b[0m\u001b[0;34m)\u001b[0m\u001b[0;34m\u001b[0m\u001b[0;34m\u001b[0m\u001b[0m\n",
      "\u001b[0;31mAttributeError\u001b[0m: 'DataFrame' object has no attribute 'abcd'"
     ]
    }
   ],
   "source": [
    "weather.abcd"
   ]
  },
  {
   "cell_type": "code",
   "execution_count": 93,
   "id": "36c3c9d2-a28c-4332-97da-5534a08d155e",
   "metadata": {},
   "outputs": [
    {
     "name": "stdout",
     "output_type": "stream",
     "text": [
      "+-----+------------------------------+\n",
      "|month|no_of_days_with_freezing_temps|\n",
      "+-----+------------------------------+\n",
      "|    1|                             3|\n",
      "|    2|                             0|\n",
      "|    3|                             0|\n",
      "|    4|                             0|\n",
      "|    5|                             0|\n",
      "|    6|                             0|\n",
      "|    7|                             0|\n",
      "|    8|                             0|\n",
      "|    9|                             0|\n",
      "|   10|                             0|\n",
      "|   11|                             0|\n",
      "|   12|                             5|\n",
      "+-----+------------------------------+\n",
      "\n"
     ]
    }
   ],
   "source": [
    "(\n",
    "    weather.filter(year(\"date\") == 2013)\n",
    "    .withColumn(\"temp_avg\", (weather.temp_min + weather.temp_max) / 2)\n",
    "    .withColumn(\"freezing_temps\", (col('temp_avg') <= 0).cast(\"int\"))\n",
    "    .withColumn(\"month\", month(\"date\"))\n",
    "    .groupBy(\"month\")\n",
    "    .agg(sum(\"freezing_temps\").alias(\"no_of_days_with_freezing_temps\"))\n",
    "    .sort(\"month\")\n",
    "    .show()\n",
    ")"
   ]
  },
  {
   "cell_type": "code",
   "execution_count": 94,
   "id": "4c96b3e5-b261-41a9-81aa-25f0316d5efd",
   "metadata": {},
   "outputs": [
    {
     "name": "stdout",
     "output_type": "stream",
     "text": [
      "== Physical Plan ==\n",
      "AdaptiveSparkPlan isFinalPlan=false\n",
      "+- Sort [month#1640 ASC NULLS FIRST], true, 0\n",
      "   +- Exchange rangepartitioning(month#1640 ASC NULLS FIRST, 200), ENSURE_REQUIREMENTS, [id=#1304]\n",
      "      +- HashAggregate(keys=[month#1640], functions=[sum(freezing_temps#1631)])\n",
      "         +- Exchange hashpartitioning(month#1640, 200), ENSURE_REQUIREMENTS, [id=#1301]\n",
      "            +- HashAggregate(keys=[month#1640], functions=[partial_sum(freezing_temps#1631)])\n",
      "               +- Project [cast((((temp_min#1128 + temp_max#1127) / 2.0) <= 0.0) as int) AS freezing_temps#1631, month(cast(date#1125 as date)) AS month#1640]\n",
      "                  +- Filter (isnotnull(date#1125) AND (year(cast(date#1125 as date)) = 2013))\n",
      "                     +- Scan ExistingRDD[date#1125,precipitation#1126,temp_max#1127,temp_min#1128,wind#1129,weather#1130]\n",
      "\n",
      "\n"
     ]
    }
   ],
   "source": [
    "(\n",
    "    weather.filter(year(\"date\") == 2013)\n",
    "    .withColumn(\"temp_avg\", (weather.temp_min + weather.temp_max) / 2)\n",
    "    .withColumn(\"freezing_temps\", (col('temp_avg') <= 0).cast(\"int\"))\n",
    "    .withColumn(\"month\", month(\"date\"))\n",
    "    .groupBy(\"month\")\n",
    "    .agg(sum(\"freezing_temps\").alias(\"no_of_days_with_freezing_temps\"))\n",
    "    .sort(\"month\")\n",
    "    .explain()\n",
    ")"
   ]
  },
  {
   "cell_type": "code",
   "execution_count": 95,
   "id": "4c2fd472-1434-4984-848e-4bce18451a74",
   "metadata": {},
   "outputs": [
    {
     "data": {
      "text/html": [
       "<div>\n",
       "<style scoped>\n",
       "    .dataframe tbody tr th:only-of-type {\n",
       "        vertical-align: middle;\n",
       "    }\n",
       "\n",
       "    .dataframe tbody tr th {\n",
       "        vertical-align: top;\n",
       "    }\n",
       "\n",
       "    .dataframe thead th {\n",
       "        text-align: right;\n",
       "    }\n",
       "</style>\n",
       "<table border=\"1\" class=\"dataframe\">\n",
       "  <thead>\n",
       "    <tr style=\"text-align: right;\">\n",
       "      <th></th>\n",
       "      <th>month</th>\n",
       "      <th>no_of_days_with_freezing_temps</th>\n",
       "    </tr>\n",
       "  </thead>\n",
       "  <tbody>\n",
       "    <tr>\n",
       "      <th>0</th>\n",
       "      <td>1</td>\n",
       "      <td>3</td>\n",
       "    </tr>\n",
       "    <tr>\n",
       "      <th>1</th>\n",
       "      <td>2</td>\n",
       "      <td>0</td>\n",
       "    </tr>\n",
       "    <tr>\n",
       "      <th>2</th>\n",
       "      <td>3</td>\n",
       "      <td>0</td>\n",
       "    </tr>\n",
       "    <tr>\n",
       "      <th>3</th>\n",
       "      <td>4</td>\n",
       "      <td>0</td>\n",
       "    </tr>\n",
       "    <tr>\n",
       "      <th>4</th>\n",
       "      <td>5</td>\n",
       "      <td>0</td>\n",
       "    </tr>\n",
       "    <tr>\n",
       "      <th>5</th>\n",
       "      <td>6</td>\n",
       "      <td>0</td>\n",
       "    </tr>\n",
       "    <tr>\n",
       "      <th>6</th>\n",
       "      <td>7</td>\n",
       "      <td>0</td>\n",
       "    </tr>\n",
       "    <tr>\n",
       "      <th>7</th>\n",
       "      <td>8</td>\n",
       "      <td>0</td>\n",
       "    </tr>\n",
       "    <tr>\n",
       "      <th>8</th>\n",
       "      <td>9</td>\n",
       "      <td>0</td>\n",
       "    </tr>\n",
       "    <tr>\n",
       "      <th>9</th>\n",
       "      <td>10</td>\n",
       "      <td>0</td>\n",
       "    </tr>\n",
       "    <tr>\n",
       "      <th>10</th>\n",
       "      <td>11</td>\n",
       "      <td>0</td>\n",
       "    </tr>\n",
       "    <tr>\n",
       "      <th>11</th>\n",
       "      <td>12</td>\n",
       "      <td>5</td>\n",
       "    </tr>\n",
       "  </tbody>\n",
       "</table>\n",
       "</div>"
      ],
      "text/plain": [
       "    month  no_of_days_with_freezing_temps\n",
       "0       1                               3\n",
       "1       2                               0\n",
       "2       3                               0\n",
       "3       4                               0\n",
       "4       5                               0\n",
       "5       6                               0\n",
       "6       7                               0\n",
       "7       8                               0\n",
       "8       9                               0\n",
       "9      10                               0\n",
       "10     11                               0\n",
       "11     12                               5"
      ]
     },
     "execution_count": 95,
     "metadata": {},
     "output_type": "execute_result"
    }
   ],
   "source": [
    "(\n",
    "    weather.filter(year(\"date\") == 2013)\n",
    "    .withColumn(\"temp_avg\", (weather.temp_min + weather.temp_max) / 2)\n",
    "    .withColumn(\"freezing_temps\", (col('temp_avg') <= 0).cast(\"int\"))\n",
    "    .withColumn(\"month\", month(\"date\"))\n",
    "    .groupBy(\"month\")\n",
    "    .agg(sum(\"freezing_temps\").alias(\"no_of_days_with_freezing_temps\"))\n",
    "    .sort(\"month\")\n",
    "    .toPandas()\n",
    ")"
   ]
  }
 ],
 "metadata": {
  "kernelspec": {
   "display_name": "Python 3",
   "language": "python",
   "name": "python3"
  },
  "language_info": {
   "codemirror_mode": {
    "name": "ipython",
    "version": 3
   },
   "file_extension": ".py",
   "mimetype": "text/x-python",
   "name": "python",
   "nbconvert_exporter": "python",
   "pygments_lexer": "ipython3",
   "version": "3.9.1"
  }
 },
 "nbformat": 4,
 "nbformat_minor": 5
}
